{
 "cells": [
  {
   "cell_type": "markdown",
   "id": "3fb099dd",
   "metadata": {},
   "source": [
    "# Getting Started with Monarch\n",
    "This notebook demonstrates a simple interactive PV loop visualization using the Monarch cardiac model."
   ]
  },
  {
   "cell_type": "code",
   "execution_count": 8,
   "id": "5e2730e2",
   "metadata": {
    "ExecuteTime": {
     "end_time": "2025-05-01T20:32:30.145153Z",
     "start_time": "2025-05-01T20:32:30.131332Z"
    }
   },
   "outputs": [],
   "source": [
    "from monarch import Hatch\n",
    "import matplotlib.pyplot as plt\n",
    "import ipywidgets as widgets\n",
    "from IPython.display import display\n",
    "import pathlib\n",
    "import monarch.metamorphoses as meta"
   ]
  },
  {
   "cell_type": "code",
   "execution_count": 9,
   "id": "877f54b3",
   "metadata": {
    "ExecuteTime": {
     "end_time": "2025-05-01T20:32:30.153525Z",
     "start_time": "2025-05-01T20:32:30.150915Z"
    }
   },
   "outputs": [],
   "source": [
    "input_dir = pathlib.Path.cwd() / 'input_files'\n",
    "input_human = input_dir / 'human'"
   ]
  },
  {
   "cell_type": "code",
   "execution_count": 10,
   "id": "dd3e783c",
   "metadata": {
    "ExecuteTime": {
     "end_time": "2025-05-01T20:32:30.163030Z",
     "start_time": "2025-05-01T20:32:30.160507Z"
    }
   },
   "outputs": [],
   "source": [
    "def interactive_pv_loop(hr=60, sbv=1500, contractility=0.15):\n",
    "    beat_mod = Hatch(input_human)\n",
    "    beat_mod.change_pars({\n",
    "        \"HR\": hr,\n",
    "        \"sbv\": sbv,\n",
    "    })\n",
    "    beat_mod.heart.sf_act[0] = contractility  # LFW contractility\n",
    "    beat_mod.just_beat_it()\n",
    "\n",
    "    #plt.figure(figsize=(10, 6))\n",
    "    # meta.pv_loop(beat_mod, compartments=(\"LV\", \"RV\"))\n",
    "    # plt.title(f\"HR: {hr} bpm | SBV: {sbv} mL | Contractility: {contractility:.2f}\")\n",
    "    # plt.show()\n",
    "    #meta.pv_loop(beat_mod, compartments=(\"LV\", \"RV\"))\n",
    "    #plt.title(f\"HR: {hr} bpm | SBV: {sbv} mL | Contractility: {contractility:.2f}\")\n",
    "    #plt.show()\n"
   ]
  },
  {
   "cell_type": "code",
   "execution_count": 4,
   "id": "b654a94b",
   "metadata": {
    "ExecuteTime": {
     "end_time": "2025-05-09T16:56:06.447060Z",
     "start_time": "2025-05-09T16:56:06.440989Z"
    }
   },
   "outputs": [],
   "source": [
    "\n",
    "hr_slider = widgets.IntSlider(value=60, min=40, max=120, step=5, description=\"HR:\")\n",
    "sbv_slider = widgets.IntSlider(value=1500, min=1000, max=2000, step=50, description=\"SBV:\")\n",
    "contractility_slider = widgets.FloatSlider(value=0.15, min=0.05, max=0.3, step=0.01, description=\"Contractility\")\n",
    "#\n",
    "ui = widgets.VBox([hr_slider, sbv_slider, contractility_slider])\n",
    "out = widgets.interactive_output(interactive_pv_loop, {\n",
    "    \"hr\": hr_slider,\n",
    "    \"sbv\": sbv_slider,\n",
    "    \"contractility\": contractility_slider\n",
    "})\n",
    "#display(ui, out)\n"
   ]
  },
  {
   "cell_type": "code",
   "execution_count": 5,
   "id": "bd49ccf07cf8b025",
   "metadata": {
    "ExecuteTime": {
     "end_time": "2025-05-09T16:56:13.141098Z",
     "start_time": "2025-05-09T16:56:07.201188Z"
    }
   },
   "outputs": [
    {
     "data": {
      "application/vnd.jupyter.widget-view+json": {
       "model_id": "853f3805121d4f61a8a11a42bce6ab65",
       "version_major": 2,
       "version_minor": 0
      },
      "text/plain": [
       "VBox(children=(IntSlider(value=60, description='HR:', max=120, min=40, step=5), IntSlider(value=1500, descript…"
      ]
     },
     "metadata": {},
     "output_type": "display_data"
    },
    {
     "data": {
      "application/vnd.jupyter.widget-view+json": {
       "model_id": "a98ebdbf2cba44d3b1089d4688c4e9f9",
       "version_major": 2,
       "version_minor": 0
      },
      "text/plain": [
       "Output()"
      ]
     },
     "metadata": {},
     "output_type": "display_data"
    }
   ],
   "source": [
    "### Extended: Interactive Geometry + PV Loop with Stiffness and Wall Volume\n",
    "import ipywidgets as widgets\n",
    "import numpy as np\n",
    "\n",
    "def interactive_pv_loop_extended(hr=60, sbv=1500, lv_contractility=0.15, septal_contractility=0.15, stiffness=0.017, wall_volume=40000):\n",
    "    beat_mod = Hatch(input_human)\n",
    "    beat_mod.change_pars({\n",
    "        \"HR\": hr,\n",
    "        \"sbv\": sbv\n",
    "    })\n",
    "\n",
    "    # Set contractility\n",
    "    beat_mod.heart.sf_act[0] = lv_contractility   # LFW\n",
    "    beat_mod.heart.sf_act[2] = septal_contractility  # Septal Wall\n",
    "\n",
    "    # Set wall volume\n",
    "    beat_mod.heart.vw[0] = wall_volume  # LFW volume\n",
    "\n",
    "    # Set stiffness parameters\n",
    "    beat_mod.heart.c_3 = np.full_like(beat_mod.heart.c_3, stiffness)\n",
    "    beat_mod.heart.c_4 = np.full_like(beat_mod.heart.c_4, stiffness * 600)\n",
    "\n",
    "    # Run simulation\n",
    "    beat_mod.just_beat_it()\n",
    "\n",
    "    fig = plt.figure(figsize=(14, 6))\n",
    "    # PV Loop\n",
    "    meta.pv_loop(beat_mod, compartments=(\"LV\", \"RV\"))\n",
    "    ax1 = fig.add_subplot(1, 2, 1)\n",
    "    ax1.set_title(f\"HR: {hr} bpm | SBV: {sbv} mL\")\n",
    "    meta.pv_loop(beat_mod, compartments=(\"LV\", \"RV\"))\n",
    "\n",
    "    # Geometry\n",
    "    meta.cardiac_geometry(beat_mod, real_wall_thickness=True)\n",
    "    ax1.set_title(f\"Geometry (Vol: {wall_volume} mm³, Stiffness: {stiffness:.3f})\")\n",
    "\n",
    "    plt.tight_layout()\n",
    "    #plt.show()\n",
    "\n",
    "\n",
    "\n",
    "# Create extended sliders\n",
    "stiffness_slider = widgets.FloatSlider(value=0.013, min=0.001, max=0.02, step=0.001, description=\"Stiffness:\")\n",
    "wall_volume_slider = widgets.IntSlider(value=40000, min=10000, max=80000, step=1000, description=\"Wall Volume:\")\n",
    "lv_contractility_slider = widgets.FloatSlider(\n",
    "    value=0.15, min=0.05, max=0.3, step=0.01, description=\"LV Contractility\"\n",
    ")\n",
    "septal_contractility_slider = widgets.FloatSlider(\n",
    "    value=0.15, min=0.05, max=0.3, step=0.01, description=\"Septal Contractility\"\n",
    ")\n",
    "\n",
    "ui_ext = widgets.VBox([\n",
    "    hr_slider, sbv_slider, lv_contractility_slider, septal_contractility_slider,\n",
    "    stiffness_slider, wall_volume_slider\n",
    "])\n",
    "out_ext = widgets.interactive_output(interactive_pv_loop_extended, {\n",
    "    \"hr\": hr_slider,\n",
    "    \"sbv\": sbv_slider,\n",
    "    \"lv_contractility\": lv_contractility_slider,\n",
    "    \"septal_contractility\": septal_contractility_slider,\n",
    "    \"stiffness\": stiffness_slider,\n",
    "    \"wall_volume\": wall_volume_slider\n",
    "})\n",
    "display(ui_ext, out_ext)\n",
    "\n",
    "\n",
    "lv_contractility_slider = widgets.FloatSlider(value=0.15, min=0.05, max=0.3, step=0.01, description=\"LV Contractility\")\n",
    "septal_contractility_slider = widgets.FloatSlider(value=0.15, min=0.05, max=0.3, step=0.01, description=\"Septal Contractility\")\n"
   ]
  },
  {
   "cell_type": "code",
   "execution_count": null,
   "id": "29b1a3eeb2a549e7",
   "metadata": {},
   "outputs": [],
   "source": []
  }
 ],
 "metadata": {
  "kernelspec": {
   "display_name": "Python 3 (ipykernel)",
   "language": "python",
   "name": "python3"
  }
 },
 "nbformat": 4,
 "nbformat_minor": 5
}
