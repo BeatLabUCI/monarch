{
 "cells": [
  {
   "metadata": {},
   "cell_type": "markdown",
   "source": [
    "# Getting started with monarch\n",
    "This notebook demonstrates how the monarch package can be used to simulate cardiac physiology and mechanics. We will demonstrate how the model can be run and results be visualized and analyzed, and share some example cases. This notebook focuses on single-beat analyses only, growth simulations are covered in the `growth` notebook."
   ],
   "id": "9a0a7bedaca4f1c3"
  },
  {
   "metadata": {},
   "cell_type": "code",
   "outputs": [],
   "execution_count": null,
   "source": [
    "# Jupyter magic\n",
    "%load_ext autoreload\n",
    "%autoreload 2"
   ],
   "id": "f6171c9936dbb0ce"
  },
  {
   "metadata": {},
   "cell_type": "markdown",
   "source": [
    "## Basic usage\n",
    "### Running a single cardiac cycle\n",
    "\n",
    "We first need to initialize the model and import it into this notebook. We will use an input file containing input parameters that simulate a representative human case. By initializing the model, the parameters from the JSON-format input file are being imported, and some initial arrays are pre-allocated, such as time, and compartmental pressures and volumes. You can create your own input file using the included examples."
   ],
   "id": "9025691f826a7695"
  },
  {
   "metadata": {},
   "cell_type": "code",
   "outputs": [],
   "execution_count": null,
   "source": [
    "from monarch import Hatch\n",
    "import pathlib\n",
    "\n",
    "# Initialize model\n",
    "input_dir = pathlib.Path.cwd() / \"input_files\"\n",
    "input_human = input_dir / 'human'\n",
    "beat = Hatch(input_human)"
   ],
   "id": "bc1bba06989f7b6f"
  },
  {
   "metadata": {},
   "cell_type": "markdown",
   "source": "To simulate a single cardiac cycle, we call on the core function of the model: `just_beat_it`. This will simulate a cardiac cycle using the built-in 4th-order Rung-Kutta solver using the initial conditions provided in the input file parameter `k`. After running one cardiac cycle, the solver checks if a steady-state circulation has been reached by comparing the differences between the initial and final blood volumes in all compartments. If these differences are below a certain threshold (default 1e-6), the model is considered to have converged. If the model has not converged, the solver will run another cardiac cycle with the final volumes set as the new initial conditions. The solver will continue to run cardiac cycles until the model has converged. The solver will also stop if the maximum number of iterations is reached (input file parameter `iter_max`). The solver will print the volume error in each compartment if the `print_solve` parameter is set to `True` (default `False`). The first time this code is executed, the function is much slower, because the python code has to be compiled first into machine code using Numba. All the following times the function is called, the compiled code is used, and the function is much faster.",
   "id": "79fabb858ac5d7b3"
  },
  {
   "metadata": {},
   "cell_type": "code",
   "outputs": [],
   "execution_count": null,
   "source": [
    "# Run model and display convergence\n",
    "beat.just_beat_it(print_solve=True)"
   ],
   "id": "3ab133c712b5ec9"
  },
  {
   "metadata": {},
   "cell_type": "markdown",
   "source": [
    "### Visualizing the results\n",
    "The module `metamorphoses` includes a series of convenient plotting functions on the Monarch class. For example, we can plot the pressure-volume loops of the left and right ventricles:"
   ],
   "id": "84e87fdcd969c2ac"
  },
  {
   "metadata": {},
   "cell_type": "code",
   "outputs": [],
   "execution_count": null,
   "source": [
    "# Import plotting functions\n",
    "import monarch.metamorphoses as meta\n",
    "\n",
    "# Plot LV pressure-volume loop\n",
    "meta.pv_loop(beat, compartments=(\"LV\", \"RV\"))"
   ],
   "id": "ed3026316d9e4e67"
  },
  {
   "metadata": {},
   "cell_type": "markdown",
   "source": "Note that figures can be exported by specifying a `file_path` parameter (`filename` has a default but can user-specified too), as well as export format `file_format` (default `.pdf`). Figure display can be disabled by setting `show_fig=False`. The following cell will only export the figure in the same directory as this notebook and not display it:",
   "id": "12e23480dbf1d30d"
  },
  {
   "metadata": {},
   "cell_type": "code",
   "outputs": [],
   "execution_count": null,
   "source": "meta.pv_loop(beat, compartments=(\"LV\", \"RV\"), show_fig=False, file_path='./')",
   "id": "49e98d4abaa7c72b"
  },
  {
   "metadata": {},
   "cell_type": "markdown",
   "source": "We can also plot the Wiggers diagram, which is useful to analyze LV behaviour:",
   "id": "c10f323f8497b0d2"
  },
  {
   "metadata": {},
   "cell_type": "code",
   "outputs": [],
   "execution_count": null,
   "source": "meta.wiggers_diagram(beat)",
   "id": "ea8bfdd9cc824534"
  },
  {
   "metadata": {},
   "cell_type": "code",
   "outputs": [],
   "execution_count": null,
   "source": "meta.cardiac_geometry(beat, real_wall_thickness=True)",
   "id": "61fd707a9414c498"
  },
  {
   "metadata": {},
   "cell_type": "markdown",
   "source": "there is also a function to plot all pressures and volumes, which is useful to compare the different compartments and for code debugging and development:",
   "id": "b76ff23d74204a84"
  },
  {
   "metadata": {},
   "cell_type": "code",
   "outputs": [],
   "execution_count": null,
   "source": "meta.pressures_volumes(beat)",
   "id": "851faebe48145c16"
  },
  {
   "metadata": {},
   "cell_type": "markdown",
   "source": "Another useful tool is that a range of typical physiological readouts are calculated and stored in a Pandas table format:",
   "id": "6c1e56c632f76b8f"
  },
  {
   "metadata": {},
   "cell_type": "code",
   "outputs": [],
   "execution_count": null,
   "source": [
    "from IPython.display import display\n",
    "display(beat.outputs)"
   ],
   "id": "e4c21532d9eac631"
  },
  {
   "metadata": {},
   "cell_type": "markdown",
   "source": [
    "### Import and export\n",
    "The Monarch class can import and export the results of a simulation. The key results are stored in .hdf5 format to maximize compatibility with all software versions and operating systems. We here store the results of the current simulation in the same directory as this notebook:\n"
   ],
   "id": "2aa2267f8dfb54d8"
  },
  {
   "metadata": {},
   "cell_type": "code",
   "outputs": [],
   "execution_count": null,
   "source": [
    "import pathlib\n",
    "\n",
    "# Get current directory\n",
    "cdir = pathlib.Path.cwd()\n",
    "\n",
    "# Export results\n",
    "beat.export_beat_sim(cdir, \"demo\")"
   ],
   "id": "96c1b00092210290"
  },
  {
   "metadata": {},
   "cell_type": "markdown",
   "source": "The results can be imported again into an existing or new Monarch class. Here we demonstrate how to export the results and show that the results of the new class are the same as the original class:",
   "id": "d810a604c3c102e6"
  },
  {
   "metadata": {},
   "cell_type": "code",
   "outputs": [],
   "execution_count": null,
   "source": [
    "# Start new class and load previous results\n",
    "beat_load = Hatch(input_human)\n",
    "beat_load.import_beat_sim(cdir, \"demo\")\n",
    "\n",
    "display(beat.outputs)\n",
    "display(beat_load.outputs)"
   ],
   "id": "e96d5c69c3f4977f"
  },
  {
   "metadata": {},
   "cell_type": "markdown",
   "source": "Additionally, the converged model states are by default stored in a JSON file in the source code directory, which can be imported when rerunning a new simulation. This is useful for example when you want to run a series of simulations with similar parameters, thus reducing the amount of iterations required to reach convergence and reducing computation time. However, when running a model with substantially different parameters it can lead to convergence issues, that is why it is by default disabled–also, the model is so fast that the difference is typically negligible. You can also delete the converged solution JSON file to ensure the model starts from a clean slate when using converged solution imports. We here show the different amount of solver iterations needed to reach convergence with and without using the converged solution:",
   "id": "aeb9d0fd160f100f"
  },
  {
   "metadata": {},
   "cell_type": "code",
   "outputs": [],
   "execution_count": null,
   "source": [
    "print(\"Run 1: standard, do not use converged solution\")\n",
    "beat = Hatch(input_human)\n",
    "beat.just_beat_it(print_solve=True)\n",
    "\n",
    "print(\"\\nRun 2: use converged solution\")\n",
    "beat = Hatch(input_human)\n",
    "beat.just_beat_it(print_solve=True, use_converged=True)\n",
    "\n",
    "print(\"\\nRun 3: clear converged solution\")\n",
    "beat = Hatch(input_human)\n",
    "beat.clear_converged_sol()\n",
    "beat.just_beat_it(print_solve=True, use_converged=True)"
   ],
   "id": "658332fd537124c5"
  },
  {
   "metadata": {},
   "cell_type": "markdown",
   "source": [
    "## Examples\n",
    "Now that we can run and plot a single cardiac cycle, we can test what happens to the model outcomes if change certain model parameters.\n",
    "\n",
    "### Example 1: Heart rate\n",
    "Let's first run two cardiac cycles with different heart rates: 60 and 90 bpm. We can use the built-in method *change_pars* to conveniently change any parameter, here we change the heart rate parameter. We will run multiple heart beats and plot the pressure-volume loops of the left ventricle to observe the effect of heart rate on stroke volume and cardiac output:"
   ],
   "id": "f9785af7221f8710"
  },
  {
   "metadata": {},
   "cell_type": "code",
   "outputs": [],
   "execution_count": null,
   "source": [
    "import numpy as np\n",
    "\n",
    "# Preallocate beats and choose heart rates\n",
    "beats = []\n",
    "heart_rates = np.arange(50, 101, 5)\n",
    "\n",
    "# Simulate each heart rate\n",
    "for hr in heart_rates:\n",
    "    # Initialize and set HR\n",
    "    beat = Hatch(input_human)\n",
    "    beat.change_pars({\"HR\": hr})\n",
    "    \n",
    "    # Run model and store results\n",
    "    beat.just_beat_it()\n",
    "    beats.append(beat)\n",
    "\n",
    "# Plot multiple PV loops of a single compartment, default LV\n",
    "meta.pv_loops(beats, model_names=heart_rates, var_name=\"HR\", y_lim=(0, 150), x_lim=(50, 150))"
   ],
   "id": "cb451ca73e29a8e4"
  },
  {
   "metadata": {},
   "cell_type": "markdown",
   "source": "Note that the stroke volume decreases with increasing heart rate. This is due to the Frank-Starling law: the shorter filling time decreases end-diastolic volume which in turn decreases contractility. However, the increasing heart rate does lead to an increase in stroke volume. Let's use the output tables to proof that our model obeys the Frank-Starling law:",
   "id": "5d3bf5b5c9293067"
  },
  {
   "metadata": {},
   "cell_type": "code",
   "outputs": [],
   "execution_count": null,
   "source": [
    "import matplotlib.pyplot as plt\n",
    "\n",
    "# Extract outputs of all simulations\n",
    "sv, co, hr, lvedv = [], [], [], []\n",
    "for beat in beats:\n",
    "    hr.append(beat.outputs[\"HR\"]) \n",
    "    sv.append(beat.outputs[\"LVSV\"])\n",
    "    co.append(beat.outputs[\"LVCO\"])\n",
    "    lvedv.append(beat.outputs[\"LVEDV\"])\n",
    "\n",
    "# Plot results\n",
    "fig, ax  = plt.subplots(2, 2)\n",
    "ax[0, 0].plot(hr, sv)\n",
    "ax[1, 0].plot(hr, co)\n",
    "ax[0, 1].plot(lvedv, sv)\n",
    "ax[1, 1].plot(lvedv, co)\n",
    "\n",
    "ax[1, 0].set_xlabel(\"HR (bpm)\")\n",
    "ax[1, 1].set_xlabel(\"LVEDV (mmHg)\")\n",
    "ax[0, 0].set_ylabel(\"SV (mL)\")\n",
    "ax[1, 0].set_ylabel(\"CO (mL/min)\")\n",
    "\n",
    "plt.show()"
   ],
   "id": "98269fe6eb10cdc8"
  },
  {
   "metadata": {},
   "cell_type": "markdown",
   "source": [
    "### Example 2: Myocardial ischemia\n",
    "Myocardial ischemia, commonly known as a heart attack, occurs when blood flow to the heart muscle is reduced or blocked, preventing the heart muscle from receiving enough oxygen. This can lead to cell death and scar tissue formation. We can simulate the initial ischemia by setting the contractility of a region to zero. We will simulate a healthy baseline and an ischemic septal case:"
   ],
   "id": "a8442195b86c8567"
  },
  {
   "metadata": {},
   "cell_type": "code",
   "outputs": [],
   "execution_count": null,
   "source": [
    "# Initialize and run healthy baseline model\n",
    "beat_baseline = Hatch(input_human)\n",
    "beat_baseline.just_beat_it()\n",
    "\n",
    "# Set septal wall to be ischemic and rerun simulation\n",
    "beat_ischemic = Hatch(input_human)\n",
    "beat_ischemic.heart.sf_act[2] = 0.0\n",
    "beat_ischemic.just_beat_it()"
   ],
   "id": "c3dd73d755381bb9"
  },
  {
   "metadata": {},
   "cell_type": "markdown",
   "source": "We then plot the pressure-volume loops to observe the effect of ischemia on the heart's function, notice how the stroke volume decreases, end-diastolic pressure increases, and end-systolic pressure decrease in the ischemic case. Note that this is without any hemodynamic reflexes, that is the body compensating for the reduction in stroke volume by increasing heart rate, contractility, and/or preload.",
   "id": "2b4212fcb79e8649"
  },
  {
   "metadata": {},
   "cell_type": "code",
   "outputs": [],
   "execution_count": null,
   "source": "meta.pv_loops([beat_baseline, beat_ischemic], model_names=[\"Healthy\", \"Ischemic\"])",
   "id": "cf5253393caace9"
  },
  {
   "metadata": {},
   "cell_type": "markdown",
   "source": "We can also plot stretch to reveal the typical behavior of a myocardial ischemic region: the now-ischemic septal wall (SW) experiences pre-load during early contraction of the left and right free walls (LFW and RFW), and does not contract at all. Note that in this simulation resembles acute ischemia: there is no remodeling, typically this could comprise of scar formation and subsequent wall thinning in the ischemic region, and hypertrophy of the healthy, remote regions. The latter can be simulated using our growth functions.",
   "id": "cad15d83060f388d"
  },
  {
   "metadata": {},
   "cell_type": "code",
   "outputs": [],
   "execution_count": null,
   "source": [
    "meta.stretch(beat_baseline, fig_size=(4, 3))\n",
    "meta.stretch(beat_ischemic, fig_size=(4, 3), legend=False)"
   ],
   "id": "6ea27db03dfa46a1"
  },
  {
   "metadata": {},
   "cell_type": "markdown",
   "source": [
    "### Example 3: Activation timing\n",
    "This model was specifically designed to simulate dyssynchronous heart failure. The ventricular composite geometry consists of three spherical walls based on the TriSeg method [3], and each wall can be split into a series of individual segments, or patches [3]. Each patch can be assigned a different activation timing through the `*`heart.t_act`*` parameter, where each value stands for a patch, and the wall each patch is located in is specified in `heart.patches`, where left free wall is 0, right wall is 1, septal wall is 2, left atrium is 3, and right atrium is 4. Not that the other cardiac parameters need to be set for each patch as well, which comes with pros and cons: each patch can be assigned different properties, but now each parameter requires a list of specified values equal to the number of patches.\n",
    "\n",
    "The input file `input_oomen2022` has patches are set up according to the 16-segment AHA model, with 5 patches in the septal wall and 11 in the left free wall. Additionally, the right free wall is split up into 5 patches, while the atria are single-patch spheres. This input file is based on [1], note however the code version used for that paper included several differences, most notably no atria, so the results will be slightly different. Moreover, the results for that paper were generated using the original MATLAB version of this code, which is still publicly available on GitHub. The single-beat cases simulated here also do not include hemodynamic compensation through blood volume and arterial resistance, but they are included in the growth simulations using this same input file.\n",
    "\n",
    "Start with a healthy baseline heart beat:"
   ],
   "id": "4e552e5e285fcd72"
  },
  {
   "metadata": {},
   "cell_type": "code",
   "outputs": [],
   "execution_count": null,
   "source": [
    "input_canine = input_dir / 'oomen2022'\n",
    "beat_baseline = Hatch(input_canine)\n",
    "beat_baseline.just_beat_it()"
   ],
   "id": "73617de56521ae52"
  },
  {
   "metadata": {},
   "cell_type": "markdown",
   "source": "Using this input file, we can simulate a left bundle branch block (LBBB) and cardiac resynchronization therapy (CRT) case. We will set the activation timing using the activation times stored in the growth part of the input, see the growth notebook for more information.",
   "id": "a0a7f50e69625154"
  },
  {
   "metadata": {},
   "cell_type": "code",
   "outputs": [],
   "execution_count": null,
   "source": [
    "beat_lbbb = Hatch(input_canine)\n",
    "beat_lbbb.change_pars({\"tact\": beat_lbbb.growth.t_act[1, :]})\n",
    "beat_lbbb.just_beat_it()\n",
    "\n",
    "beat_crt = Hatch(input_canine)\n",
    "beat_crt.change_pars({\"tact\": beat_crt.growth.t_act[-1, :]})\n",
    "beat_crt.just_beat_it()"
   ],
   "id": "e36c6416c909a775"
  },
  {
   "metadata": {},
   "cell_type": "markdown",
   "source": " We will then plot the pressure-volume loops and stretch to observe the effect of activation timing on cardiac function, with LBBB causing a decrease in stroke volume and CRT an almost complete recovery of stroke volume:",
   "id": "20bbad16b27fae51"
  },
  {
   "metadata": {},
   "cell_type": "code",
   "outputs": [],
   "execution_count": null,
   "source": "meta.pv_loops([beat_baseline, beat_lbbb, beat_crt], model_names=[\"Baseline\", \"LBBB\", \"CRT\"])",
   "id": "7dc0200830eb8437"
  },
  {
   "metadata": {},
   "cell_type": "markdown",
   "source": "Plotting the stretch reveals the typical behavior of LBBB and CRT: LBBB causes a delay in activation, increased preload, and increased work of the left free wall, while the septal contracts less and rebound stretch is noticable in several patches, however less than seen in a typical ultrasound or MRI. CRT mostly recovers these effects towards baseline:",
   "id": "537cfbad161fdfbf"
  },
  {
   "metadata": {},
   "cell_type": "code",
   "outputs": [],
   "execution_count": null,
   "source": [
    "meta.stretch(beat_baseline, fig_size=(4, 3), y_lim=(0.8, 1.2))\n",
    "meta.stretch(beat_lbbb, fig_size=(4, 3), legend=False, y_lim=(0.8, 1.2))\n",
    "meta.stretch(beat_crt, fig_size=(4, 3), legend=False, y_lim=(0.8, 1.2))"
   ],
   "id": "c8764ebfff25f4af"
  },
  {
   "metadata": {},
   "cell_type": "markdown",
   "source": [
    "## References\n",
    "[1] Oomen, P. J. A., Phung, T.-K. N., Weinberg, S. H., Bilchick, K. C. & Holmes, J. W. A rapid electromechanical model to predict reverse remodeling following cardiac resynchronization therapy. Biomech Model Mechan 21, 231–247 (2022).\n",
    "[2] Lumens, J., Delhaas, T., Kirn, B. & Arts, T. Three-Wall Segment (TriSeg) Model Describing Mechanics and Hemodynamics of Ventricular Interaction. Ann Biomed Eng 37, 2234–2255 (2009).\n",
    "[3] Walmsley, J. et al. Fast Simulation of Mechanical Heterogeneity in the Electrically Asynchronous Heart Using the MultiPatch Module. Plos Comput Biol 11, e1004284 (2015).\n",
    "  \n",
    "   \n"
   ],
   "id": "f4f72727db49c403"
  },
  {
   "metadata": {},
   "cell_type": "code",
   "outputs": [],
   "execution_count": null,
   "source": "",
   "id": "f754144034990383"
  }
 ],
 "metadata": {
  "kernelspec": {
   "name": "monarch",
   "language": "python",
   "display_name": "monarch"
  },
  "language_info": {
   "codemirror_mode": {
    "name": "ipython",
    "version": 3
   },
   "file_extension": ".py",
   "mimetype": "text/x-python",
   "name": "python",
   "nbconvert_exporter": "python",
   "pygments_lexer": "ipython3",
   "version": "3.12.4"
  }
 },
 "nbformat": 4,
 "nbformat_minor": 5
}
