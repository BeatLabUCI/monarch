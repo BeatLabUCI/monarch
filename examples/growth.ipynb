{
 "cells": [
  {
   "cell_type": "markdown",
   "source": [
    "# Simulating growth\n",
    "The true strength of this package is in its ability to simulate cardiac growth. \n",
    "\n",
    "## Background\n",
    "### Mechanics-based growth models\n",
    "We included several mechanics-based growth relationships based on reference [1-4]. The choice of growth model is up to the user and can be specified in the input file in `growth.type`. We use the kinematic growth model framework from Rodriguez et al. [5]. In brief, the way that all these models work is that they compare the current state of mechanics (typically elastic stretch) in each cardiac wall patch to that of a previous state. The growth model then calculates the amount of growth based on the difference between these states. The growth tensor *F_g* for each cardiac wall patch can be calculated using the following growth relationships:\n",
    "1. `transverse_jones`: Transversely isotropic growth driven by changes in fiber (fiber/cross-fiber growth) and radial (radial growth) stretch based on Jones & Oomen [1].\n",
    "2. `transverse_witzenburg`: Transversely isotropic growth driven by changes in fiber (fiber/cross-fiber growth) and radial (radial growth) stretch based on Witzenburg & Holmes [2].\n",
    "3. `isotropic_oomen`: Isotropic growth driven by changes in fiber stretch based on Oomen et al. [3].\n",
    "4. `isotropic_jones`: Isotropic growth driven by changes in fiber stretch based on Jones & Oomen [1].\n",
    "5. `transverse_hybrid`: Combination of the transverse_jones and transverse_witzenburg growth models.\n",
    "\n",
    "If you desire a different growth model, you can conveniently add your own growth model(s) in the `growth.py` file.\n",
    "\n",
    "### Drivers of growth\n",
    "The changes in mechanics that drive growth can be induced by a variety of pathologies or clinical interventions. The boundary conditions needed to simulate these can be specified in the `growth` section of the input file. The following drivers are implemented:\n",
    "1. Systemic arterial resistance (`growth.ras`): to simulate changes in afterload e.g. due to aortic stenosis.\n",
    "2. Mitral valve regurgitation (`growth.rmvb`): to simulate changes in preload due to mitral valve regurgitation.\n",
    "3. Abnormal heart rate (`growth.hr`): to simulate changes in heart rate.\n",
    "4. Blood volume (`growth.sbv`): to simulate changes in blood volume and/or vasoconstriction.\n",
    "5. Myocardial ischemia (`growth.ischemic`): to simulate changes in contractility due to acute ischemia (no stiffening during chronic ischemia is implemented as of yet).\n",
    "6. Dyssynchrony (`growth.t_act`): to simulate changes in activation timing such as in left bundle branch block and cardiac resynchronization therapy.\n",
    " \n",
    "All these parameters will override the values specified in the other parameter sections (`heart`, `circulation`, `resistances`). The first 4 parameters need to be specified for each time point in the growth simulation, whereas changes in ischemia and dyssynchrony can be triggered at specific time points and need to be defined for each cardiac wall patch."
   ],
   "metadata": {
    "collapsed": false
   },
   "id": "8c003deb8e42026"
  },
  {
   "cell_type": "code",
   "outputs": [],
   "source": [
    "# Jupyter magic\n",
    "%load_ext autoreload\n",
    "%autoreload 2"
   ],
   "metadata": {
    "collapsed": false,
    "ExecuteTime": {
     "end_time": "2024-10-03T20:32:26.103107Z",
     "start_time": "2024-10-03T20:32:26.090501Z"
    }
   },
   "id": "76e38838bc70c714",
   "execution_count": 1
  },
  {
   "cell_type": "markdown",
   "source": [
    "## Example: mitral valve regurgitation\n",
    "We will here simulate transversely isotropic growth in a canine model with mitral valve regurgitation based on Jones & Oomen [1]. Just as in the single beat simulations, we need to specify the input file which contains the baseline model characteristics as well the growth boundary conditions. We use the `growth.rmvb` parameter to simulate mitral valve regurgitation and the growth model `transverse_jones` to simulate transversely isotropic growth. The model parameters are set to reflect a typical mitral regurgitation case in canines, see [1] for a more rigorous parameter calibration.\n",
    "\n",
    "Just like in the single beat simulations, we first need to (1) initialize the model, (2) simulate growth, and (3) visualize the results. Start with model intitialization and print the baseline and acute mitral valve regurgitation parameters:"
   ],
   "metadata": {
    "collapsed": false
   },
   "id": "e6443e76da463973"
  },
  {
   "cell_type": "code",
   "outputs": [
    {
     "name": "stdout",
     "output_type": "stream",
     "text": [
      "Growth type: transverse_jones\n",
      "Baseline R_mvb: 10000000000.0\n",
      "Acute R_mvb: 0.3\n"
     ]
    }
   ],
   "source": [
    "from monarch import Hatch\n",
    "import pathlib\n",
    "\n",
    "# Initialize model\n",
    "input_dir = pathlib.Path.cwd() / \"input_files\"\n",
    "input_canine = input_dir / \"canine_vo\"\n",
    "beats = Hatch(input_canine)\n",
    "\n",
    "print(\"Growth type: \" + beats.growth.type)\n",
    "print(\"Baseline R_mvb: \" + str(beats.growth.rmvb[0]))\n",
    "print(\"Acute R_mvb: \" + str(beats.growth.rmvb[1]))"
   ],
   "metadata": {
    "collapsed": false,
    "ExecuteTime": {
     "end_time": "2024-10-03T20:33:05.471775Z",
     "start_time": "2024-10-03T20:33:05.262199Z"
    }
   },
   "id": "61344bc69d6ed16a",
   "execution_count": 3
  },
  {
   "cell_type": "markdown",
   "source": [
    "A lower resistance means there is more regurgitation, with the intitial value set sufficiently high to ensure no regurgitation. We can now simulate growth , note that just like in the single beat simulations, the first simulation you run may take a while as the model is compiled. Subsequent simulations will be faster, rerun the cell to see this for yourself."
   ],
   "metadata": {
    "collapsed": false
   },
   "id": "546bb7be416080f0"
  },
  {
   "cell_type": "code",
   "outputs": [
    {
     "ename": "TypeError",
     "evalue": "'numpy.float64' object cannot be interpreted as an integer",
     "output_type": "error",
     "traceback": [
      "\u001B[0;31m---------------------------------------------------------------------------\u001B[0m",
      "\u001B[0;31mTypeError\u001B[0m                                 Traceback (most recent call last)",
      "Cell \u001B[0;32mIn[4], line 2\u001B[0m\n\u001B[1;32m      1\u001B[0m \u001B[38;5;66;03m# Simulate growth\u001B[39;00m\n\u001B[0;32m----> 2\u001B[0m beats\u001B[38;5;241m.\u001B[39mlet_it_grow()\n",
      "File \u001B[0;32m~/PycharmProjects/monarch/src/monarch/egg.py:228\u001B[0m, in \u001B[0;36mHatch.let_it_grow\u001B[0;34m(self, file_path, file_name, use_converged, print_solve)\u001B[0m\n\u001B[1;32m    225\u001B[0m     \u001B[38;5;28mself\u001B[39m\u001B[38;5;241m.\u001B[39mjust_beat_it(is_growth\u001B[38;5;241m=\u001B[39m\u001B[38;5;28;01mTrue\u001B[39;00m, print_solve\u001B[38;5;241m=\u001B[39mprint_solve)\n\u001B[1;32m    227\u001B[0m     \u001B[38;5;66;03m# Store growth\u001B[39;00m\n\u001B[0;32m--> 228\u001B[0m     store(\u001B[38;5;28mself\u001B[39m)\n\u001B[1;32m    230\u001B[0m \u001B[38;5;66;03m# Export growth simulation results\u001B[39;00m\n\u001B[1;32m    231\u001B[0m \u001B[38;5;28;01mif\u001B[39;00m file_path \u001B[38;5;129;01mand\u001B[39;00m file_name:\n",
      "File \u001B[0;32m~/PycharmProjects/monarch/src/monarch/growth.py:45\u001B[0m, in \u001B[0;36mstore\u001B[0;34m(model)\u001B[0m\n\u001B[1;32m     40\u001B[0m \u001B[38;5;250m\u001B[39m\u001B[38;5;124;03m\"\"\"\u001B[39;00m\n\u001B[1;32m     41\u001B[0m \u001B[38;5;124;03mStore hemodynamics and heart values throughout growth\u001B[39;00m\n\u001B[1;32m     42\u001B[0m \u001B[38;5;124;03m\"\"\"\u001B[39;00m\n\u001B[1;32m     44\u001B[0m \u001B[38;5;66;03m# Get outputs\u001B[39;00m\n\u001B[0;32m---> 45\u001B[0m outputs_frame \u001B[38;5;241m=\u001B[39m get_outputs(model, time_g\u001B[38;5;241m=\u001B[39mmodel\u001B[38;5;241m.\u001B[39mgrowth\u001B[38;5;241m.\u001B[39mtime[model\u001B[38;5;241m.\u001B[39mgrowth\u001B[38;5;241m.\u001B[39mi_g])\n\u001B[1;32m     46\u001B[0m model\u001B[38;5;241m.\u001B[39mgrowth\u001B[38;5;241m.\u001B[39moutputs \u001B[38;5;241m=\u001B[39m pd\u001B[38;5;241m.\u001B[39mconcat([model\u001B[38;5;241m.\u001B[39mgrowth\u001B[38;5;241m.\u001B[39moutputs, outputs_frame])\n\u001B[1;32m     48\u001B[0m \u001B[38;5;66;03m# Calculate changes in certain metrics during last time step\u001B[39;00m\n",
      "File \u001B[0;32m~/PycharmProjects/monarch/src/monarch/utils.py:196\u001B[0m, in \u001B[0;36mget_outputs\u001B[0;34m(model, time_g)\u001B[0m\n\u001B[1;32m    171\u001B[0m \u001B[38;5;66;03m# Turn into pandas\u001B[39;00m\n\u001B[1;32m    172\u001B[0m outputs \u001B[38;5;241m=\u001B[39m pd\u001B[38;5;241m.\u001B[39mDataFrame([[edv, esv, edp, esp, p_max, dpdt_max, dpdt_min, sv, rf, ef, co,\n\u001B[1;32m    173\u001B[0m                       edv_rv, esv_rv, edp_rv, esp_rv, p_max_rv, dpdt_max_rv, dpdt_min_rv, sv_rv, rf_rv, ef_rv, co_rv,\n\u001B[1;32m    174\u001B[0m                       ed_wth[\u001B[38;5;241m0\u001B[39m], ed_wth[\u001B[38;5;241m1\u001B[39m], ed_wth[\u001B[38;5;241m2\u001B[39m], es_wth[\u001B[38;5;241m0\u001B[39m], es_wth[\u001B[38;5;241m1\u001B[39m], es_wth[\u001B[38;5;241m2\u001B[39m],\n\u001B[0;32m   (...)\u001B[0m\n\u001B[1;32m    193\u001B[0m                              \u001B[38;5;124m'\u001B[39m\u001B[38;5;124mLVEDVi\u001B[39m\u001B[38;5;124m'\u001B[39m, \u001B[38;5;124m'\u001B[39m\u001B[38;5;124mLVESVi\u001B[39m\u001B[38;5;124m'\u001B[39m, \u001B[38;5;124m'\u001B[39m\u001B[38;5;124mRVEDVi\u001B[39m\u001B[38;5;124m'\u001B[39m, \u001B[38;5;124m'\u001B[39m\u001B[38;5;124mRVESVi\u001B[39m\u001B[38;5;124m'\u001B[39m],\n\u001B[1;32m    194\u001B[0m                     index\u001B[38;5;241m=\u001B[39m[time_g])\n\u001B[0;32m--> 196\u001B[0m outputs \u001B[38;5;241m=\u001B[39m strain_outputs(model, outputs, time_g)\n\u001B[1;32m    198\u001B[0m \u001B[38;5;28;01mreturn\u001B[39;00m outputs\n",
      "File \u001B[0;32m~/PycharmProjects/monarch/src/monarch/utils.py:27\u001B[0m, in \u001B[0;36mstrain_outputs\u001B[0;34m(model, outputs, time_g)\u001B[0m\n\u001B[1;32m     25\u001B[0m \u001B[38;5;28;01mfor\u001B[39;00m i \u001B[38;5;129;01min\u001B[39;00m \u001B[38;5;28mrange\u001B[39m(n_patch):\n\u001B[1;32m     26\u001B[0m     \u001B[38;5;28;01mif\u001B[39;00m ed_frame \u001B[38;5;241m<\u001B[39m es_frame:\n\u001B[0;32m---> 27\u001B[0m         outputs[[\u001B[38;5;124m\"\u001B[39m\u001B[38;5;124mMinSysStrain_s\u001B[39m\u001B[38;5;124m\"\u001B[39m \u001B[38;5;241m+\u001B[39m \u001B[38;5;28mstr\u001B[39m(i)]] \u001B[38;5;241m=\u001B[39m np\u001B[38;5;241m.\u001B[39mmin(np\u001B[38;5;241m.\u001B[39mmin(model\u001B[38;5;241m.\u001B[39mheart\u001B[38;5;241m.\u001B[39mlab_f[:ed_frame, i]),\n\u001B[1;32m     28\u001B[0m                                                       np\u001B[38;5;241m.\u001B[39mmin(model\u001B[38;5;241m.\u001B[39mheart\u001B[38;5;241m.\u001B[39mlab_f[es_frame:, i]))\n\u001B[1;32m     29\u001B[0m         outputs[[\u001B[38;5;124m\"\u001B[39m\u001B[38;5;124mMinDiaStrain_s\u001B[39m\u001B[38;5;124m\"\u001B[39m \u001B[38;5;241m+\u001B[39m \u001B[38;5;28mstr\u001B[39m(i)]] \u001B[38;5;241m=\u001B[39m np\u001B[38;5;241m.\u001B[39mmin(model\u001B[38;5;241m.\u001B[39mheart\u001B[38;5;241m.\u001B[39mlab_f[ed_frame:es_frame, i])\n\u001B[1;32m     30\u001B[0m         outputs[[\u001B[38;5;124m\"\u001B[39m\u001B[38;5;124mDelSysStrain_s\u001B[39m\u001B[38;5;124m\"\u001B[39m \u001B[38;5;241m+\u001B[39m \u001B[38;5;28mstr\u001B[39m(i)]] \u001B[38;5;241m=\u001B[39m np\u001B[38;5;241m.\u001B[39mmax(np\u001B[38;5;241m.\u001B[39mmax(model\u001B[38;5;241m.\u001B[39mheart\u001B[38;5;241m.\u001B[39mlab_f[:ed_frame, i]),\n\u001B[1;32m     31\u001B[0m                                                       np\u001B[38;5;241m.\u001B[39mmax(model\u001B[38;5;241m.\u001B[39mheart\u001B[38;5;241m.\u001B[39mlab_f[es_frame:, i])) \u001B[38;5;241m-\u001B[39m np\u001B[38;5;241m.\u001B[39mmin(\n\u001B[1;32m     32\u001B[0m             np\u001B[38;5;241m.\u001B[39mmin(model\u001B[38;5;241m.\u001B[39mheart\u001B[38;5;241m.\u001B[39mlab_f[:ed_frame, i]), np\u001B[38;5;241m.\u001B[39mmin(model\u001B[38;5;241m.\u001B[39mheart\u001B[38;5;241m.\u001B[39mlab_f[es_frame:, i]))\n",
      "File \u001B[0;32m~/miniconda3/envs/monarch/lib/python3.12/site-packages/numpy/core/fromnumeric.py:2953\u001B[0m, in \u001B[0;36mmin\u001B[0;34m(a, axis, out, keepdims, initial, where)\u001B[0m\n\u001B[1;32m   2836\u001B[0m \u001B[38;5;129m@array_function_dispatch\u001B[39m(_min_dispatcher)\n\u001B[1;32m   2837\u001B[0m \u001B[38;5;28;01mdef\u001B[39;00m \u001B[38;5;21mmin\u001B[39m(a, axis\u001B[38;5;241m=\u001B[39m\u001B[38;5;28;01mNone\u001B[39;00m, out\u001B[38;5;241m=\u001B[39m\u001B[38;5;28;01mNone\u001B[39;00m, keepdims\u001B[38;5;241m=\u001B[39mnp\u001B[38;5;241m.\u001B[39m_NoValue, initial\u001B[38;5;241m=\u001B[39mnp\u001B[38;5;241m.\u001B[39m_NoValue,\n\u001B[1;32m   2838\u001B[0m         where\u001B[38;5;241m=\u001B[39mnp\u001B[38;5;241m.\u001B[39m_NoValue):\n\u001B[1;32m   2839\u001B[0m \u001B[38;5;250m    \u001B[39m\u001B[38;5;124;03m\"\"\"\u001B[39;00m\n\u001B[1;32m   2840\u001B[0m \u001B[38;5;124;03m    Return the minimum of an array or minimum along an axis.\u001B[39;00m\n\u001B[1;32m   2841\u001B[0m \n\u001B[0;32m   (...)\u001B[0m\n\u001B[1;32m   2951\u001B[0m \u001B[38;5;124;03m    6\u001B[39;00m\n\u001B[1;32m   2952\u001B[0m \u001B[38;5;124;03m    \"\"\"\u001B[39;00m\n\u001B[0;32m-> 2953\u001B[0m     \u001B[38;5;28;01mreturn\u001B[39;00m _wrapreduction(a, np\u001B[38;5;241m.\u001B[39mminimum, \u001B[38;5;124m'\u001B[39m\u001B[38;5;124mmin\u001B[39m\u001B[38;5;124m'\u001B[39m, axis, \u001B[38;5;28;01mNone\u001B[39;00m, out,\n\u001B[1;32m   2954\u001B[0m                           keepdims\u001B[38;5;241m=\u001B[39mkeepdims, initial\u001B[38;5;241m=\u001B[39minitial, where\u001B[38;5;241m=\u001B[39mwhere)\n",
      "File \u001B[0;32m~/miniconda3/envs/monarch/lib/python3.12/site-packages/numpy/core/fromnumeric.py:86\u001B[0m, in \u001B[0;36m_wrapreduction\u001B[0;34m(obj, ufunc, method, axis, dtype, out, **kwargs)\u001B[0m\n\u001B[1;32m     84\u001B[0m             \u001B[38;5;28;01mreturn\u001B[39;00m reduction(axis\u001B[38;5;241m=\u001B[39maxis, dtype\u001B[38;5;241m=\u001B[39mdtype, out\u001B[38;5;241m=\u001B[39mout, \u001B[38;5;241m*\u001B[39m\u001B[38;5;241m*\u001B[39mpasskwargs)\n\u001B[1;32m     85\u001B[0m         \u001B[38;5;28;01melse\u001B[39;00m:\n\u001B[0;32m---> 86\u001B[0m             \u001B[38;5;28;01mreturn\u001B[39;00m reduction(axis\u001B[38;5;241m=\u001B[39maxis, out\u001B[38;5;241m=\u001B[39mout, \u001B[38;5;241m*\u001B[39m\u001B[38;5;241m*\u001B[39mpasskwargs)\n\u001B[1;32m     88\u001B[0m \u001B[38;5;28;01mreturn\u001B[39;00m ufunc\u001B[38;5;241m.\u001B[39mreduce(obj, axis, dtype, out, \u001B[38;5;241m*\u001B[39m\u001B[38;5;241m*\u001B[39mpasskwargs)\n",
      "File \u001B[0;32m~/miniconda3/envs/monarch/lib/python3.12/site-packages/numpy/core/_methods.py:45\u001B[0m, in \u001B[0;36m_amin\u001B[0;34m(a, axis, out, keepdims, initial, where)\u001B[0m\n\u001B[1;32m     43\u001B[0m \u001B[38;5;28;01mdef\u001B[39;00m \u001B[38;5;21m_amin\u001B[39m(a, axis\u001B[38;5;241m=\u001B[39m\u001B[38;5;28;01mNone\u001B[39;00m, out\u001B[38;5;241m=\u001B[39m\u001B[38;5;28;01mNone\u001B[39;00m, keepdims\u001B[38;5;241m=\u001B[39m\u001B[38;5;28;01mFalse\u001B[39;00m,\n\u001B[1;32m     44\u001B[0m           initial\u001B[38;5;241m=\u001B[39m_NoValue, where\u001B[38;5;241m=\u001B[39m\u001B[38;5;28;01mTrue\u001B[39;00m):\n\u001B[0;32m---> 45\u001B[0m     \u001B[38;5;28;01mreturn\u001B[39;00m umr_minimum(a, axis, \u001B[38;5;28;01mNone\u001B[39;00m, out, keepdims, initial, where)\n",
      "\u001B[0;31mTypeError\u001B[0m: 'numpy.float64' object cannot be interpreted as an integer"
     ]
    }
   ],
   "source": [
    "# Simulate growth\n",
    "beats.let_it_grow()"
   ],
   "metadata": {
    "collapsed": false,
    "ExecuteTime": {
     "end_time": "2024-10-03T20:33:13.855553Z",
     "start_time": "2024-10-03T20:33:06.656616Z"
    }
   },
   "id": "6e7f0cd2a56bda94",
   "execution_count": 4
  },
  {
   "cell_type": "markdown",
   "source": [
    "All model readouts are included in a Pandas format table `beat.growth.outputs`, similar to the single beat `beat.outputs` table but now every row includes a growth time point, with the index indicating which time point (in days)."
   ],
   "metadata": {
    "collapsed": false
   },
   "id": "d57c7429e40c6d34"
  },
  {
   "cell_type": "code",
   "outputs": [],
   "source": [
    "beats.growth.outputs"
   ],
   "metadata": {
    "collapsed": false
   },
   "id": "e2fb37dd7879969c",
   "execution_count": null
  },
  {
   "cell_type": "markdown",
   "source": [
    "For easier analysis, any of the growth outputs can be plotted over time using the `plot_growth` function. The function takes a list of outputs (and optional units for plotting purposes) to plot. Here we plot the left ventricular end-diastolic volume (LVEDV) and end-systolic volume (LVESV):"
   ],
   "metadata": {
    "collapsed": false
   },
   "id": "7e0b0f7dcbf56bd1"
  },
  {
   "cell_type": "code",
   "outputs": [
    {
     "ename": "KeyError",
     "evalue": "'LVEDV'",
     "output_type": "error",
     "traceback": [
      "\u001B[0;31m---------------------------------------------------------------------------\u001B[0m",
      "\u001B[0;31mKeyError\u001B[0m                                  Traceback (most recent call last)",
      "Cell \u001B[0;32mIn[6], line 3\u001B[0m\n\u001B[1;32m      1\u001B[0m \u001B[38;5;28;01mimport\u001B[39;00m \u001B[38;5;21;01mmonarch\u001B[39;00m\u001B[38;5;21;01m.\u001B[39;00m\u001B[38;5;21;01mmetamophoses\u001B[39;00m \u001B[38;5;28;01mas\u001B[39;00m \u001B[38;5;21;01mmeta\u001B[39;00m\n\u001B[0;32m----> 3\u001B[0m meta\u001B[38;5;241m.\u001B[39mplot_growth(beats, [\u001B[38;5;124m\"\u001B[39m\u001B[38;5;124mLVEDV\u001B[39m\u001B[38;5;124m\"\u001B[39m, \u001B[38;5;124m\"\u001B[39m\u001B[38;5;124mLVESV\u001B[39m\u001B[38;5;124m\"\u001B[39m], units\u001B[38;5;241m=\u001B[39m[\u001B[38;5;124m\"\u001B[39m\u001B[38;5;124mmL\u001B[39m\u001B[38;5;124m\"\u001B[39m, \u001B[38;5;124m\"\u001B[39m\u001B[38;5;124mmL\u001B[39m\u001B[38;5;124m\"\u001B[39m])\n",
      "File \u001B[0;32m~/PycharmProjects/monarch/src/monarch/metamophoses.py:288\u001B[0m, in \u001B[0;36mplot_growth\u001B[0;34m(model, outputs, units, show_fig, file_type, file_path, file_name, ax_size, max_cols)\u001B[0m\n\u001B[1;32m    286\u001B[0m \u001B[38;5;28;01mfor\u001B[39;00m i, (output, unit) \u001B[38;5;129;01min\u001B[39;00m \u001B[38;5;28menumerate\u001B[39m(\u001B[38;5;28mzip\u001B[39m(outputs, units)):\n\u001B[1;32m    287\u001B[0m     ax \u001B[38;5;241m=\u001B[39m fig\u001B[38;5;241m.\u001B[39madd_subplot(n_rows, n_cols, i \u001B[38;5;241m+\u001B[39m \u001B[38;5;241m1\u001B[39m)\n\u001B[0;32m--> 288\u001B[0m     ax\u001B[38;5;241m.\u001B[39mplot(model\u001B[38;5;241m.\u001B[39mgrowth\u001B[38;5;241m.\u001B[39mtime, model\u001B[38;5;241m.\u001B[39mgrowth\u001B[38;5;241m.\u001B[39moutputs\u001B[38;5;241m.\u001B[39mloc[:, output], linewidth\u001B[38;5;241m=\u001B[39m\u001B[38;5;241m3\u001B[39m)\n\u001B[1;32m    290\u001B[0m     ax\u001B[38;5;241m.\u001B[39mset_ylabel(output \u001B[38;5;241m+\u001B[39m \u001B[38;5;124m\"\u001B[39m\u001B[38;5;124m (\u001B[39m\u001B[38;5;124m\"\u001B[39m \u001B[38;5;241m+\u001B[39m unit \u001B[38;5;241m+\u001B[39m \u001B[38;5;124m\"\u001B[39m\u001B[38;5;124m)\u001B[39m\u001B[38;5;124m\"\u001B[39m, fontsize\u001B[38;5;241m=\u001B[39m\u001B[38;5;241m12\u001B[39m)\n\u001B[1;32m    291\u001B[0m     ax\u001B[38;5;241m.\u001B[39mset_xlabel(\u001B[38;5;124m\"\u001B[39m\u001B[38;5;124mTime (days)\u001B[39m\u001B[38;5;124m\"\u001B[39m, fontsize\u001B[38;5;241m=\u001B[39m\u001B[38;5;241m12\u001B[39m)\n",
      "File \u001B[0;32m~/miniconda3/envs/monarch/lib/python3.12/site-packages/pandas/core/indexing.py:1184\u001B[0m, in \u001B[0;36m_LocationIndexer.__getitem__\u001B[0;34m(self, key)\u001B[0m\n\u001B[1;32m   1182\u001B[0m     \u001B[38;5;28;01mif\u001B[39;00m \u001B[38;5;28mself\u001B[39m\u001B[38;5;241m.\u001B[39m_is_scalar_access(key):\n\u001B[1;32m   1183\u001B[0m         \u001B[38;5;28;01mreturn\u001B[39;00m \u001B[38;5;28mself\u001B[39m\u001B[38;5;241m.\u001B[39mobj\u001B[38;5;241m.\u001B[39m_get_value(\u001B[38;5;241m*\u001B[39mkey, takeable\u001B[38;5;241m=\u001B[39m\u001B[38;5;28mself\u001B[39m\u001B[38;5;241m.\u001B[39m_takeable)\n\u001B[0;32m-> 1184\u001B[0m     \u001B[38;5;28;01mreturn\u001B[39;00m \u001B[38;5;28mself\u001B[39m\u001B[38;5;241m.\u001B[39m_getitem_tuple(key)\n\u001B[1;32m   1185\u001B[0m \u001B[38;5;28;01melse\u001B[39;00m:\n\u001B[1;32m   1186\u001B[0m     \u001B[38;5;66;03m# we by definition only have the 0th axis\u001B[39;00m\n\u001B[1;32m   1187\u001B[0m     axis \u001B[38;5;241m=\u001B[39m \u001B[38;5;28mself\u001B[39m\u001B[38;5;241m.\u001B[39maxis \u001B[38;5;129;01mor\u001B[39;00m \u001B[38;5;241m0\u001B[39m\n",
      "File \u001B[0;32m~/miniconda3/envs/monarch/lib/python3.12/site-packages/pandas/core/indexing.py:1368\u001B[0m, in \u001B[0;36m_LocIndexer._getitem_tuple\u001B[0;34m(self, tup)\u001B[0m\n\u001B[1;32m   1366\u001B[0m \u001B[38;5;28;01mwith\u001B[39;00m suppress(IndexingError):\n\u001B[1;32m   1367\u001B[0m     tup \u001B[38;5;241m=\u001B[39m \u001B[38;5;28mself\u001B[39m\u001B[38;5;241m.\u001B[39m_expand_ellipsis(tup)\n\u001B[0;32m-> 1368\u001B[0m     \u001B[38;5;28;01mreturn\u001B[39;00m \u001B[38;5;28mself\u001B[39m\u001B[38;5;241m.\u001B[39m_getitem_lowerdim(tup)\n\u001B[1;32m   1370\u001B[0m \u001B[38;5;66;03m# no multi-index, so validate all of the indexers\u001B[39;00m\n\u001B[1;32m   1371\u001B[0m tup \u001B[38;5;241m=\u001B[39m \u001B[38;5;28mself\u001B[39m\u001B[38;5;241m.\u001B[39m_validate_tuple_indexer(tup)\n",
      "File \u001B[0;32m~/miniconda3/envs/monarch/lib/python3.12/site-packages/pandas/core/indexing.py:1065\u001B[0m, in \u001B[0;36m_LocationIndexer._getitem_lowerdim\u001B[0;34m(self, tup)\u001B[0m\n\u001B[1;32m   1061\u001B[0m \u001B[38;5;28;01mfor\u001B[39;00m i, key \u001B[38;5;129;01min\u001B[39;00m \u001B[38;5;28menumerate\u001B[39m(tup):\n\u001B[1;32m   1062\u001B[0m     \u001B[38;5;28;01mif\u001B[39;00m is_label_like(key):\n\u001B[1;32m   1063\u001B[0m         \u001B[38;5;66;03m# We don't need to check for tuples here because those are\u001B[39;00m\n\u001B[1;32m   1064\u001B[0m         \u001B[38;5;66;03m#  caught by the _is_nested_tuple_indexer check above.\u001B[39;00m\n\u001B[0;32m-> 1065\u001B[0m         section \u001B[38;5;241m=\u001B[39m \u001B[38;5;28mself\u001B[39m\u001B[38;5;241m.\u001B[39m_getitem_axis(key, axis\u001B[38;5;241m=\u001B[39mi)\n\u001B[1;32m   1067\u001B[0m         \u001B[38;5;66;03m# We should never have a scalar section here, because\u001B[39;00m\n\u001B[1;32m   1068\u001B[0m         \u001B[38;5;66;03m#  _getitem_lowerdim is only called after a check for\u001B[39;00m\n\u001B[1;32m   1069\u001B[0m         \u001B[38;5;66;03m#  is_scalar_access, which that would be.\u001B[39;00m\n\u001B[1;32m   1070\u001B[0m         \u001B[38;5;28;01mif\u001B[39;00m section\u001B[38;5;241m.\u001B[39mndim \u001B[38;5;241m==\u001B[39m \u001B[38;5;28mself\u001B[39m\u001B[38;5;241m.\u001B[39mndim:\n\u001B[1;32m   1071\u001B[0m             \u001B[38;5;66;03m# we're in the middle of slicing through a MultiIndex\u001B[39;00m\n\u001B[1;32m   1072\u001B[0m             \u001B[38;5;66;03m# revise the key wrt to `section` by inserting an _NS\u001B[39;00m\n",
      "File \u001B[0;32m~/miniconda3/envs/monarch/lib/python3.12/site-packages/pandas/core/indexing.py:1431\u001B[0m, in \u001B[0;36m_LocIndexer._getitem_axis\u001B[0;34m(self, key, axis)\u001B[0m\n\u001B[1;32m   1429\u001B[0m \u001B[38;5;66;03m# fall thru to straight lookup\u001B[39;00m\n\u001B[1;32m   1430\u001B[0m \u001B[38;5;28mself\u001B[39m\u001B[38;5;241m.\u001B[39m_validate_key(key, axis)\n\u001B[0;32m-> 1431\u001B[0m \u001B[38;5;28;01mreturn\u001B[39;00m \u001B[38;5;28mself\u001B[39m\u001B[38;5;241m.\u001B[39m_get_label(key, axis\u001B[38;5;241m=\u001B[39maxis)\n",
      "File \u001B[0;32m~/miniconda3/envs/monarch/lib/python3.12/site-packages/pandas/core/indexing.py:1381\u001B[0m, in \u001B[0;36m_LocIndexer._get_label\u001B[0;34m(self, label, axis)\u001B[0m\n\u001B[1;32m   1379\u001B[0m \u001B[38;5;28;01mdef\u001B[39;00m \u001B[38;5;21m_get_label\u001B[39m(\u001B[38;5;28mself\u001B[39m, label, axis: AxisInt):\n\u001B[1;32m   1380\u001B[0m     \u001B[38;5;66;03m# GH#5567 this will fail if the label is not present in the axis.\u001B[39;00m\n\u001B[0;32m-> 1381\u001B[0m     \u001B[38;5;28;01mreturn\u001B[39;00m \u001B[38;5;28mself\u001B[39m\u001B[38;5;241m.\u001B[39mobj\u001B[38;5;241m.\u001B[39mxs(label, axis\u001B[38;5;241m=\u001B[39maxis)\n",
      "File \u001B[0;32m~/miniconda3/envs/monarch/lib/python3.12/site-packages/pandas/core/generic.py:4287\u001B[0m, in \u001B[0;36mNDFrame.xs\u001B[0;34m(self, key, axis, level, drop_level)\u001B[0m\n\u001B[1;32m   4285\u001B[0m \u001B[38;5;28;01mif\u001B[39;00m axis \u001B[38;5;241m==\u001B[39m \u001B[38;5;241m1\u001B[39m:\n\u001B[1;32m   4286\u001B[0m     \u001B[38;5;28;01mif\u001B[39;00m drop_level:\n\u001B[0;32m-> 4287\u001B[0m         \u001B[38;5;28;01mreturn\u001B[39;00m \u001B[38;5;28mself\u001B[39m[key]\n\u001B[1;32m   4288\u001B[0m     index \u001B[38;5;241m=\u001B[39m \u001B[38;5;28mself\u001B[39m\u001B[38;5;241m.\u001B[39mcolumns\n\u001B[1;32m   4289\u001B[0m \u001B[38;5;28;01melse\u001B[39;00m:\n",
      "File \u001B[0;32m~/miniconda3/envs/monarch/lib/python3.12/site-packages/pandas/core/frame.py:4102\u001B[0m, in \u001B[0;36mDataFrame.__getitem__\u001B[0;34m(self, key)\u001B[0m\n\u001B[1;32m   4100\u001B[0m \u001B[38;5;28;01mif\u001B[39;00m \u001B[38;5;28mself\u001B[39m\u001B[38;5;241m.\u001B[39mcolumns\u001B[38;5;241m.\u001B[39mnlevels \u001B[38;5;241m>\u001B[39m \u001B[38;5;241m1\u001B[39m:\n\u001B[1;32m   4101\u001B[0m     \u001B[38;5;28;01mreturn\u001B[39;00m \u001B[38;5;28mself\u001B[39m\u001B[38;5;241m.\u001B[39m_getitem_multilevel(key)\n\u001B[0;32m-> 4102\u001B[0m indexer \u001B[38;5;241m=\u001B[39m \u001B[38;5;28mself\u001B[39m\u001B[38;5;241m.\u001B[39mcolumns\u001B[38;5;241m.\u001B[39mget_loc(key)\n\u001B[1;32m   4103\u001B[0m \u001B[38;5;28;01mif\u001B[39;00m is_integer(indexer):\n\u001B[1;32m   4104\u001B[0m     indexer \u001B[38;5;241m=\u001B[39m [indexer]\n",
      "File \u001B[0;32m~/miniconda3/envs/monarch/lib/python3.12/site-packages/pandas/core/indexes/range.py:417\u001B[0m, in \u001B[0;36mRangeIndex.get_loc\u001B[0;34m(self, key)\u001B[0m\n\u001B[1;32m    415\u001B[0m         \u001B[38;5;28;01mraise\u001B[39;00m \u001B[38;5;167;01mKeyError\u001B[39;00m(key) \u001B[38;5;28;01mfrom\u001B[39;00m \u001B[38;5;21;01merr\u001B[39;00m\n\u001B[1;32m    416\u001B[0m \u001B[38;5;28;01mif\u001B[39;00m \u001B[38;5;28misinstance\u001B[39m(key, Hashable):\n\u001B[0;32m--> 417\u001B[0m     \u001B[38;5;28;01mraise\u001B[39;00m \u001B[38;5;167;01mKeyError\u001B[39;00m(key)\n\u001B[1;32m    418\u001B[0m \u001B[38;5;28mself\u001B[39m\u001B[38;5;241m.\u001B[39m_check_indexing_error(key)\n\u001B[1;32m    419\u001B[0m \u001B[38;5;28;01mraise\u001B[39;00m \u001B[38;5;167;01mKeyError\u001B[39;00m(key)\n",
      "\u001B[0;31mKeyError\u001B[0m: 'LVEDV'"
     ]
    },
    {
     "data": {
      "text/plain": "<Figure size 800x300 with 1 Axes>",
      "image/png": "[encoded data removed]"
     },
     "metadata": {},
     "output_type": "display_data"
    }
   ],
   "source": [
    "import monarch.metamophoses as meta\n",
    "\n",
    "meta.plot_growth(beats, [\"LVEDV\", \"LVESV\"], units=[\"mL\", \"mL\"])"
   ],
   "metadata": {
    "collapsed": false,
    "ExecuteTime": {
     "end_time": "2024-10-03T20:33:35.489060Z",
     "start_time": "2024-10-03T20:33:32.169097Z"
    }
   },
   "id": "dd14f313dfdec82a",
   "execution_count": 6
  },
  {
   "cell_type": "markdown",
   "source": [
    "One can also plot the pressure-volume loops of a single compartment over time. Here we plot the pressure-volume loop of the left ventricle at all time points (default); and the first, second, and last time point (specified through `index` argument):"
   ],
   "metadata": {
    "collapsed": false
   },
   "id": "311a27fa551e4107"
  },
  {
   "cell_type": "code",
   "outputs": [
    {
     "ename": "NameError",
     "evalue": "name 'meta' is not defined",
     "output_type": "error",
     "traceback": [
      "\u001B[0;31m---------------------------------------------------------------------------\u001B[0m",
      "\u001B[0;31mNameError\u001B[0m                                 Traceback (most recent call last)",
      "Cell \u001B[0;32mIn[5], line 1\u001B[0m\n\u001B[0;32m----> 1\u001B[0m meta\u001B[38;5;241m.\u001B[39mpv_loop_growth(beats)\n\u001B[1;32m      2\u001B[0m meta\u001B[38;5;241m.\u001B[39mpv_loop_growth(beats, index\u001B[38;5;241m=\u001B[39m(\u001B[38;5;241m0\u001B[39m, \u001B[38;5;241m1\u001B[39m, \u001B[38;5;241m-\u001B[39m\u001B[38;5;241m1\u001B[39m))\n",
      "\u001B[0;31mNameError\u001B[0m: name 'meta' is not defined"
     ]
    }
   ],
   "source": [
    "meta.pv_loop_growth(beats)\n",
    "meta.pv_loop_growth(beats, index=(0, 1, -1))"
   ],
   "metadata": {
    "collapsed": false,
    "ExecuteTime": {
     "end_time": "2024-10-03T20:33:15.999085Z",
     "start_time": "2024-10-03T20:33:15.981517Z"
    }
   },
   "id": "bb42a94b11266fcc",
   "execution_count": 5
  },
  {
   "cell_type": "markdown",
   "source": [
    "The growth tensor *F_g* can be visualized using the `plot_fg` function. Note how there is only growth in the left free wall (LFW) and septal wall (SW) as mitral regurgitation only effects the left ventricle. As expected from experimental and clinical studies, we observe dilation (increase in fiber (11) and cross-fiber (22) components of the growth tensor) and wall thinning (decrease in the radial (33) component of the growth tensor) in the LFW and SW. Initially, the change in wall volume due to growth (*J_g*) decreases due to faster thinning than dilation, but eventually the wall volume increases due to dilation exceeding wall thinning."
   ],
   "metadata": {
    "collapsed": false
   },
   "id": "eb2c1febaba5b27b"
  },
  {
   "cell_type": "code",
   "outputs": [],
   "source": [
    "meta.plot_fg(beats)"
   ],
   "metadata": {
    "collapsed": false
   },
   "id": "edd8744aefaf3772",
   "execution_count": null
  },
  {
   "cell_type": "markdown",
   "source": [
    "### Isotropic growth\n",
    "Let's now simulate isotropic growth in a canine model with mitral valve regurgitation. We will use the `isotropic_jones` growth model to simulate isotropic growth."
   ],
   "metadata": {
    "collapsed": false
   },
   "id": "479516b772bbf785"
  },
  {
   "cell_type": "code",
   "outputs": [
    {
     "ename": "TypeError",
     "evalue": "'numpy.float64' object cannot be interpreted as an integer",
     "output_type": "error",
     "traceback": [
      "\u001B[0;31m---------------------------------------------------------------------------\u001B[0m",
      "\u001B[0;31mTypeError\u001B[0m                                 Traceback (most recent call last)",
      "Cell \u001B[0;32mIn[7], line 6\u001B[0m\n\u001B[1;32m      3\u001B[0m beats\u001B[38;5;241m.\u001B[39mgrowth\u001B[38;5;241m.\u001B[39mtype \u001B[38;5;241m=\u001B[39m \u001B[38;5;124m\"\u001B[39m\u001B[38;5;124misotropic_jones\u001B[39m\u001B[38;5;124m\"\u001B[39m\n\u001B[1;32m      5\u001B[0m \u001B[38;5;66;03m# Simulate growth\u001B[39;00m\n\u001B[0;32m----> 6\u001B[0m beats\u001B[38;5;241m.\u001B[39mlet_it_grow()\n",
      "File \u001B[0;32m~/PycharmProjects/monarch/src/monarch/egg.py:228\u001B[0m, in \u001B[0;36mHatch.let_it_grow\u001B[0;34m(self, file_path, file_name, use_converged, print_solve)\u001B[0m\n\u001B[1;32m    225\u001B[0m     \u001B[38;5;28mself\u001B[39m\u001B[38;5;241m.\u001B[39mjust_beat_it(is_growth\u001B[38;5;241m=\u001B[39m\u001B[38;5;28;01mTrue\u001B[39;00m, print_solve\u001B[38;5;241m=\u001B[39mprint_solve)\n\u001B[1;32m    227\u001B[0m     \u001B[38;5;66;03m# Store growth\u001B[39;00m\n\u001B[0;32m--> 228\u001B[0m     store(\u001B[38;5;28mself\u001B[39m)\n\u001B[1;32m    230\u001B[0m \u001B[38;5;66;03m# Export growth simulation results\u001B[39;00m\n\u001B[1;32m    231\u001B[0m \u001B[38;5;28;01mif\u001B[39;00m file_path \u001B[38;5;129;01mand\u001B[39;00m file_name:\n",
      "File \u001B[0;32m~/PycharmProjects/monarch/src/monarch/growth.py:45\u001B[0m, in \u001B[0;36mstore\u001B[0;34m(model)\u001B[0m\n\u001B[1;32m     40\u001B[0m \u001B[38;5;250m\u001B[39m\u001B[38;5;124;03m\"\"\"\u001B[39;00m\n\u001B[1;32m     41\u001B[0m \u001B[38;5;124;03mStore hemodynamics and heart values throughout growth\u001B[39;00m\n\u001B[1;32m     42\u001B[0m \u001B[38;5;124;03m\"\"\"\u001B[39;00m\n\u001B[1;32m     44\u001B[0m \u001B[38;5;66;03m# Get outputs\u001B[39;00m\n\u001B[0;32m---> 45\u001B[0m outputs_frame \u001B[38;5;241m=\u001B[39m get_outputs(model, time_g\u001B[38;5;241m=\u001B[39mmodel\u001B[38;5;241m.\u001B[39mgrowth\u001B[38;5;241m.\u001B[39mtime[model\u001B[38;5;241m.\u001B[39mgrowth\u001B[38;5;241m.\u001B[39mi_g])\n\u001B[1;32m     46\u001B[0m model\u001B[38;5;241m.\u001B[39mgrowth\u001B[38;5;241m.\u001B[39moutputs \u001B[38;5;241m=\u001B[39m pd\u001B[38;5;241m.\u001B[39mconcat([model\u001B[38;5;241m.\u001B[39mgrowth\u001B[38;5;241m.\u001B[39moutputs, outputs_frame])\n\u001B[1;32m     48\u001B[0m \u001B[38;5;66;03m# Calculate changes in certain metrics during last time step\u001B[39;00m\n",
      "File \u001B[0;32m~/PycharmProjects/monarch/src/monarch/utils.py:196\u001B[0m, in \u001B[0;36mget_outputs\u001B[0;34m(model, time_g)\u001B[0m\n\u001B[1;32m    171\u001B[0m \u001B[38;5;66;03m# Turn into pandas\u001B[39;00m\n\u001B[1;32m    172\u001B[0m outputs \u001B[38;5;241m=\u001B[39m pd\u001B[38;5;241m.\u001B[39mDataFrame([[edv, esv, edp, esp, p_max, dpdt_max, dpdt_min, sv, rf, ef, co,\n\u001B[1;32m    173\u001B[0m                       edv_rv, esv_rv, edp_rv, esp_rv, p_max_rv, dpdt_max_rv, dpdt_min_rv, sv_rv, rf_rv, ef_rv, co_rv,\n\u001B[1;32m    174\u001B[0m                       ed_wth[\u001B[38;5;241m0\u001B[39m], ed_wth[\u001B[38;5;241m1\u001B[39m], ed_wth[\u001B[38;5;241m2\u001B[39m], es_wth[\u001B[38;5;241m0\u001B[39m], es_wth[\u001B[38;5;241m1\u001B[39m], es_wth[\u001B[38;5;241m2\u001B[39m],\n\u001B[0;32m   (...)\u001B[0m\n\u001B[1;32m    193\u001B[0m                              \u001B[38;5;124m'\u001B[39m\u001B[38;5;124mLVEDVi\u001B[39m\u001B[38;5;124m'\u001B[39m, \u001B[38;5;124m'\u001B[39m\u001B[38;5;124mLVESVi\u001B[39m\u001B[38;5;124m'\u001B[39m, \u001B[38;5;124m'\u001B[39m\u001B[38;5;124mRVEDVi\u001B[39m\u001B[38;5;124m'\u001B[39m, \u001B[38;5;124m'\u001B[39m\u001B[38;5;124mRVESVi\u001B[39m\u001B[38;5;124m'\u001B[39m],\n\u001B[1;32m    194\u001B[0m                     index\u001B[38;5;241m=\u001B[39m[time_g])\n\u001B[0;32m--> 196\u001B[0m outputs \u001B[38;5;241m=\u001B[39m strain_outputs(model, outputs, time_g)\n\u001B[1;32m    198\u001B[0m \u001B[38;5;28;01mreturn\u001B[39;00m outputs\n",
      "File \u001B[0;32m~/PycharmProjects/monarch/src/monarch/utils.py:27\u001B[0m, in \u001B[0;36mstrain_outputs\u001B[0;34m(model, outputs, time_g)\u001B[0m\n\u001B[1;32m     25\u001B[0m \u001B[38;5;28;01mfor\u001B[39;00m i \u001B[38;5;129;01min\u001B[39;00m \u001B[38;5;28mrange\u001B[39m(n_patch):\n\u001B[1;32m     26\u001B[0m     \u001B[38;5;28;01mif\u001B[39;00m ed_frame \u001B[38;5;241m<\u001B[39m es_frame:\n\u001B[0;32m---> 27\u001B[0m         outputs[[\u001B[38;5;124m\"\u001B[39m\u001B[38;5;124mMinSysStrain_s\u001B[39m\u001B[38;5;124m\"\u001B[39m \u001B[38;5;241m+\u001B[39m \u001B[38;5;28mstr\u001B[39m(i)]] \u001B[38;5;241m=\u001B[39m np\u001B[38;5;241m.\u001B[39mmin(np\u001B[38;5;241m.\u001B[39mmin(model\u001B[38;5;241m.\u001B[39mheart\u001B[38;5;241m.\u001B[39mlab_f[:ed_frame, i]),\n\u001B[1;32m     28\u001B[0m                                                       np\u001B[38;5;241m.\u001B[39mmin(model\u001B[38;5;241m.\u001B[39mheart\u001B[38;5;241m.\u001B[39mlab_f[es_frame:, i]))\n\u001B[1;32m     29\u001B[0m         outputs[[\u001B[38;5;124m\"\u001B[39m\u001B[38;5;124mMinDiaStrain_s\u001B[39m\u001B[38;5;124m\"\u001B[39m \u001B[38;5;241m+\u001B[39m \u001B[38;5;28mstr\u001B[39m(i)]] \u001B[38;5;241m=\u001B[39m np\u001B[38;5;241m.\u001B[39mmin(model\u001B[38;5;241m.\u001B[39mheart\u001B[38;5;241m.\u001B[39mlab_f[ed_frame:es_frame, i])\n\u001B[1;32m     30\u001B[0m         outputs[[\u001B[38;5;124m\"\u001B[39m\u001B[38;5;124mDelSysStrain_s\u001B[39m\u001B[38;5;124m\"\u001B[39m \u001B[38;5;241m+\u001B[39m \u001B[38;5;28mstr\u001B[39m(i)]] \u001B[38;5;241m=\u001B[39m np\u001B[38;5;241m.\u001B[39mmax(np\u001B[38;5;241m.\u001B[39mmax(model\u001B[38;5;241m.\u001B[39mheart\u001B[38;5;241m.\u001B[39mlab_f[:ed_frame, i]),\n\u001B[1;32m     31\u001B[0m                                                       np\u001B[38;5;241m.\u001B[39mmax(model\u001B[38;5;241m.\u001B[39mheart\u001B[38;5;241m.\u001B[39mlab_f[es_frame:, i])) \u001B[38;5;241m-\u001B[39m np\u001B[38;5;241m.\u001B[39mmin(\n\u001B[1;32m     32\u001B[0m             np\u001B[38;5;241m.\u001B[39mmin(model\u001B[38;5;241m.\u001B[39mheart\u001B[38;5;241m.\u001B[39mlab_f[:ed_frame, i]), np\u001B[38;5;241m.\u001B[39mmin(model\u001B[38;5;241m.\u001B[39mheart\u001B[38;5;241m.\u001B[39mlab_f[es_frame:, i]))\n",
      "File \u001B[0;32m~/miniconda3/envs/monarch/lib/python3.12/site-packages/numpy/core/fromnumeric.py:2953\u001B[0m, in \u001B[0;36mmin\u001B[0;34m(a, axis, out, keepdims, initial, where)\u001B[0m\n\u001B[1;32m   2836\u001B[0m \u001B[38;5;129m@array_function_dispatch\u001B[39m(_min_dispatcher)\n\u001B[1;32m   2837\u001B[0m \u001B[38;5;28;01mdef\u001B[39;00m \u001B[38;5;21mmin\u001B[39m(a, axis\u001B[38;5;241m=\u001B[39m\u001B[38;5;28;01mNone\u001B[39;00m, out\u001B[38;5;241m=\u001B[39m\u001B[38;5;28;01mNone\u001B[39;00m, keepdims\u001B[38;5;241m=\u001B[39mnp\u001B[38;5;241m.\u001B[39m_NoValue, initial\u001B[38;5;241m=\u001B[39mnp\u001B[38;5;241m.\u001B[39m_NoValue,\n\u001B[1;32m   2838\u001B[0m         where\u001B[38;5;241m=\u001B[39mnp\u001B[38;5;241m.\u001B[39m_NoValue):\n\u001B[1;32m   2839\u001B[0m \u001B[38;5;250m    \u001B[39m\u001B[38;5;124;03m\"\"\"\u001B[39;00m\n\u001B[1;32m   2840\u001B[0m \u001B[38;5;124;03m    Return the minimum of an array or minimum along an axis.\u001B[39;00m\n\u001B[1;32m   2841\u001B[0m \n\u001B[0;32m   (...)\u001B[0m\n\u001B[1;32m   2951\u001B[0m \u001B[38;5;124;03m    6\u001B[39;00m\n\u001B[1;32m   2952\u001B[0m \u001B[38;5;124;03m    \"\"\"\u001B[39;00m\n\u001B[0;32m-> 2953\u001B[0m     \u001B[38;5;28;01mreturn\u001B[39;00m _wrapreduction(a, np\u001B[38;5;241m.\u001B[39mminimum, \u001B[38;5;124m'\u001B[39m\u001B[38;5;124mmin\u001B[39m\u001B[38;5;124m'\u001B[39m, axis, \u001B[38;5;28;01mNone\u001B[39;00m, out,\n\u001B[1;32m   2954\u001B[0m                           keepdims\u001B[38;5;241m=\u001B[39mkeepdims, initial\u001B[38;5;241m=\u001B[39minitial, where\u001B[38;5;241m=\u001B[39mwhere)\n",
      "File \u001B[0;32m~/miniconda3/envs/monarch/lib/python3.12/site-packages/numpy/core/fromnumeric.py:86\u001B[0m, in \u001B[0;36m_wrapreduction\u001B[0;34m(obj, ufunc, method, axis, dtype, out, **kwargs)\u001B[0m\n\u001B[1;32m     84\u001B[0m             \u001B[38;5;28;01mreturn\u001B[39;00m reduction(axis\u001B[38;5;241m=\u001B[39maxis, dtype\u001B[38;5;241m=\u001B[39mdtype, out\u001B[38;5;241m=\u001B[39mout, \u001B[38;5;241m*\u001B[39m\u001B[38;5;241m*\u001B[39mpasskwargs)\n\u001B[1;32m     85\u001B[0m         \u001B[38;5;28;01melse\u001B[39;00m:\n\u001B[0;32m---> 86\u001B[0m             \u001B[38;5;28;01mreturn\u001B[39;00m reduction(axis\u001B[38;5;241m=\u001B[39maxis, out\u001B[38;5;241m=\u001B[39mout, \u001B[38;5;241m*\u001B[39m\u001B[38;5;241m*\u001B[39mpasskwargs)\n\u001B[1;32m     88\u001B[0m \u001B[38;5;28;01mreturn\u001B[39;00m ufunc\u001B[38;5;241m.\u001B[39mreduce(obj, axis, dtype, out, \u001B[38;5;241m*\u001B[39m\u001B[38;5;241m*\u001B[39mpasskwargs)\n",
      "File \u001B[0;32m~/miniconda3/envs/monarch/lib/python3.12/site-packages/numpy/core/_methods.py:45\u001B[0m, in \u001B[0;36m_amin\u001B[0;34m(a, axis, out, keepdims, initial, where)\u001B[0m\n\u001B[1;32m     43\u001B[0m \u001B[38;5;28;01mdef\u001B[39;00m \u001B[38;5;21m_amin\u001B[39m(a, axis\u001B[38;5;241m=\u001B[39m\u001B[38;5;28;01mNone\u001B[39;00m, out\u001B[38;5;241m=\u001B[39m\u001B[38;5;28;01mNone\u001B[39;00m, keepdims\u001B[38;5;241m=\u001B[39m\u001B[38;5;28;01mFalse\u001B[39;00m,\n\u001B[1;32m     44\u001B[0m           initial\u001B[38;5;241m=\u001B[39m_NoValue, where\u001B[38;5;241m=\u001B[39m\u001B[38;5;28;01mTrue\u001B[39;00m):\n\u001B[0;32m---> 45\u001B[0m     \u001B[38;5;28;01mreturn\u001B[39;00m umr_minimum(a, axis, \u001B[38;5;28;01mNone\u001B[39;00m, out, keepdims, initial, where)\n",
      "\u001B[0;31mTypeError\u001B[0m: 'numpy.float64' object cannot be interpreted as an integer"
     ]
    }
   ],
   "source": [
    "# Initialize model and change growth type\n",
    "beats = Hatch(input_canine)\n",
    "beats.growth.type = \"isotropic_jones\"\n",
    "\n",
    "# Simulate growth\n",
    "beats.let_it_grow()"
   ],
   "metadata": {
    "collapsed": false,
    "ExecuteTime": {
     "end_time": "2024-10-03T20:33:46.285842Z",
     "start_time": "2024-10-03T20:33:46.141824Z"
    }
   },
   "id": "70846980fbe75a25",
   "execution_count": 7
  },
  {
   "cell_type": "markdown",
   "source": [
    "Use the standard plotting functions to visualize the results, note now how there is a smaller increase in LVEDV and even a decrease in LVESV compared to the transversely isotropic growth model."
   ],
   "metadata": {
    "collapsed": false
   },
   "id": "65d6008cbe43e8df"
  },
  {
   "cell_type": "code",
   "outputs": [
    {
     "ename": "KeyError",
     "evalue": "'LVEDV'",
     "output_type": "error",
     "traceback": [
      "\u001B[0;31m---------------------------------------------------------------------------\u001B[0m",
      "\u001B[0;31mKeyError\u001B[0m                                  Traceback (most recent call last)",
      "Cell \u001B[0;32mIn[8], line 1\u001B[0m\n\u001B[0;32m----> 1\u001B[0m meta\u001B[38;5;241m.\u001B[39mplot_growth(beats, [\u001B[38;5;124m\"\u001B[39m\u001B[38;5;124mLVEDV\u001B[39m\u001B[38;5;124m\"\u001B[39m, \u001B[38;5;124m\"\u001B[39m\u001B[38;5;124mLVESV\u001B[39m\u001B[38;5;124m\"\u001B[39m], units\u001B[38;5;241m=\u001B[39m[\u001B[38;5;124m\"\u001B[39m\u001B[38;5;124mmL\u001B[39m\u001B[38;5;124m\"\u001B[39m, \u001B[38;5;124m\"\u001B[39m\u001B[38;5;124mmL\u001B[39m\u001B[38;5;124m\"\u001B[39m])\n\u001B[1;32m      2\u001B[0m meta\u001B[38;5;241m.\u001B[39mpv_loop_growth(beats)\n",
      "File \u001B[0;32m~/PycharmProjects/monarch/src/monarch/metamophoses.py:288\u001B[0m, in \u001B[0;36mplot_growth\u001B[0;34m(model, outputs, units, show_fig, file_type, file_path, file_name, ax_size, max_cols)\u001B[0m\n\u001B[1;32m    286\u001B[0m \u001B[38;5;28;01mfor\u001B[39;00m i, (output, unit) \u001B[38;5;129;01min\u001B[39;00m \u001B[38;5;28menumerate\u001B[39m(\u001B[38;5;28mzip\u001B[39m(outputs, units)):\n\u001B[1;32m    287\u001B[0m     ax \u001B[38;5;241m=\u001B[39m fig\u001B[38;5;241m.\u001B[39madd_subplot(n_rows, n_cols, i \u001B[38;5;241m+\u001B[39m \u001B[38;5;241m1\u001B[39m)\n\u001B[0;32m--> 288\u001B[0m     ax\u001B[38;5;241m.\u001B[39mplot(model\u001B[38;5;241m.\u001B[39mgrowth\u001B[38;5;241m.\u001B[39mtime, model\u001B[38;5;241m.\u001B[39mgrowth\u001B[38;5;241m.\u001B[39moutputs\u001B[38;5;241m.\u001B[39mloc[:, output], linewidth\u001B[38;5;241m=\u001B[39m\u001B[38;5;241m3\u001B[39m)\n\u001B[1;32m    290\u001B[0m     ax\u001B[38;5;241m.\u001B[39mset_ylabel(output \u001B[38;5;241m+\u001B[39m \u001B[38;5;124m\"\u001B[39m\u001B[38;5;124m (\u001B[39m\u001B[38;5;124m\"\u001B[39m \u001B[38;5;241m+\u001B[39m unit \u001B[38;5;241m+\u001B[39m \u001B[38;5;124m\"\u001B[39m\u001B[38;5;124m)\u001B[39m\u001B[38;5;124m\"\u001B[39m, fontsize\u001B[38;5;241m=\u001B[39m\u001B[38;5;241m12\u001B[39m)\n\u001B[1;32m    291\u001B[0m     ax\u001B[38;5;241m.\u001B[39mset_xlabel(\u001B[38;5;124m\"\u001B[39m\u001B[38;5;124mTime (days)\u001B[39m\u001B[38;5;124m\"\u001B[39m, fontsize\u001B[38;5;241m=\u001B[39m\u001B[38;5;241m12\u001B[39m)\n",
      "File \u001B[0;32m~/miniconda3/envs/monarch/lib/python3.12/site-packages/pandas/core/indexing.py:1184\u001B[0m, in \u001B[0;36m_LocationIndexer.__getitem__\u001B[0;34m(self, key)\u001B[0m\n\u001B[1;32m   1182\u001B[0m     \u001B[38;5;28;01mif\u001B[39;00m \u001B[38;5;28mself\u001B[39m\u001B[38;5;241m.\u001B[39m_is_scalar_access(key):\n\u001B[1;32m   1183\u001B[0m         \u001B[38;5;28;01mreturn\u001B[39;00m \u001B[38;5;28mself\u001B[39m\u001B[38;5;241m.\u001B[39mobj\u001B[38;5;241m.\u001B[39m_get_value(\u001B[38;5;241m*\u001B[39mkey, takeable\u001B[38;5;241m=\u001B[39m\u001B[38;5;28mself\u001B[39m\u001B[38;5;241m.\u001B[39m_takeable)\n\u001B[0;32m-> 1184\u001B[0m     \u001B[38;5;28;01mreturn\u001B[39;00m \u001B[38;5;28mself\u001B[39m\u001B[38;5;241m.\u001B[39m_getitem_tuple(key)\n\u001B[1;32m   1185\u001B[0m \u001B[38;5;28;01melse\u001B[39;00m:\n\u001B[1;32m   1186\u001B[0m     \u001B[38;5;66;03m# we by definition only have the 0th axis\u001B[39;00m\n\u001B[1;32m   1187\u001B[0m     axis \u001B[38;5;241m=\u001B[39m \u001B[38;5;28mself\u001B[39m\u001B[38;5;241m.\u001B[39maxis \u001B[38;5;129;01mor\u001B[39;00m \u001B[38;5;241m0\u001B[39m\n",
      "File \u001B[0;32m~/miniconda3/envs/monarch/lib/python3.12/site-packages/pandas/core/indexing.py:1368\u001B[0m, in \u001B[0;36m_LocIndexer._getitem_tuple\u001B[0;34m(self, tup)\u001B[0m\n\u001B[1;32m   1366\u001B[0m \u001B[38;5;28;01mwith\u001B[39;00m suppress(IndexingError):\n\u001B[1;32m   1367\u001B[0m     tup \u001B[38;5;241m=\u001B[39m \u001B[38;5;28mself\u001B[39m\u001B[38;5;241m.\u001B[39m_expand_ellipsis(tup)\n\u001B[0;32m-> 1368\u001B[0m     \u001B[38;5;28;01mreturn\u001B[39;00m \u001B[38;5;28mself\u001B[39m\u001B[38;5;241m.\u001B[39m_getitem_lowerdim(tup)\n\u001B[1;32m   1370\u001B[0m \u001B[38;5;66;03m# no multi-index, so validate all of the indexers\u001B[39;00m\n\u001B[1;32m   1371\u001B[0m tup \u001B[38;5;241m=\u001B[39m \u001B[38;5;28mself\u001B[39m\u001B[38;5;241m.\u001B[39m_validate_tuple_indexer(tup)\n",
      "File \u001B[0;32m~/miniconda3/envs/monarch/lib/python3.12/site-packages/pandas/core/indexing.py:1065\u001B[0m, in \u001B[0;36m_LocationIndexer._getitem_lowerdim\u001B[0;34m(self, tup)\u001B[0m\n\u001B[1;32m   1061\u001B[0m \u001B[38;5;28;01mfor\u001B[39;00m i, key \u001B[38;5;129;01min\u001B[39;00m \u001B[38;5;28menumerate\u001B[39m(tup):\n\u001B[1;32m   1062\u001B[0m     \u001B[38;5;28;01mif\u001B[39;00m is_label_like(key):\n\u001B[1;32m   1063\u001B[0m         \u001B[38;5;66;03m# We don't need to check for tuples here because those are\u001B[39;00m\n\u001B[1;32m   1064\u001B[0m         \u001B[38;5;66;03m#  caught by the _is_nested_tuple_indexer check above.\u001B[39;00m\n\u001B[0;32m-> 1065\u001B[0m         section \u001B[38;5;241m=\u001B[39m \u001B[38;5;28mself\u001B[39m\u001B[38;5;241m.\u001B[39m_getitem_axis(key, axis\u001B[38;5;241m=\u001B[39mi)\n\u001B[1;32m   1067\u001B[0m         \u001B[38;5;66;03m# We should never have a scalar section here, because\u001B[39;00m\n\u001B[1;32m   1068\u001B[0m         \u001B[38;5;66;03m#  _getitem_lowerdim is only called after a check for\u001B[39;00m\n\u001B[1;32m   1069\u001B[0m         \u001B[38;5;66;03m#  is_scalar_access, which that would be.\u001B[39;00m\n\u001B[1;32m   1070\u001B[0m         \u001B[38;5;28;01mif\u001B[39;00m section\u001B[38;5;241m.\u001B[39mndim \u001B[38;5;241m==\u001B[39m \u001B[38;5;28mself\u001B[39m\u001B[38;5;241m.\u001B[39mndim:\n\u001B[1;32m   1071\u001B[0m             \u001B[38;5;66;03m# we're in the middle of slicing through a MultiIndex\u001B[39;00m\n\u001B[1;32m   1072\u001B[0m             \u001B[38;5;66;03m# revise the key wrt to `section` by inserting an _NS\u001B[39;00m\n",
      "File \u001B[0;32m~/miniconda3/envs/monarch/lib/python3.12/site-packages/pandas/core/indexing.py:1431\u001B[0m, in \u001B[0;36m_LocIndexer._getitem_axis\u001B[0;34m(self, key, axis)\u001B[0m\n\u001B[1;32m   1429\u001B[0m \u001B[38;5;66;03m# fall thru to straight lookup\u001B[39;00m\n\u001B[1;32m   1430\u001B[0m \u001B[38;5;28mself\u001B[39m\u001B[38;5;241m.\u001B[39m_validate_key(key, axis)\n\u001B[0;32m-> 1431\u001B[0m \u001B[38;5;28;01mreturn\u001B[39;00m \u001B[38;5;28mself\u001B[39m\u001B[38;5;241m.\u001B[39m_get_label(key, axis\u001B[38;5;241m=\u001B[39maxis)\n",
      "File \u001B[0;32m~/miniconda3/envs/monarch/lib/python3.12/site-packages/pandas/core/indexing.py:1381\u001B[0m, in \u001B[0;36m_LocIndexer._get_label\u001B[0;34m(self, label, axis)\u001B[0m\n\u001B[1;32m   1379\u001B[0m \u001B[38;5;28;01mdef\u001B[39;00m \u001B[38;5;21m_get_label\u001B[39m(\u001B[38;5;28mself\u001B[39m, label, axis: AxisInt):\n\u001B[1;32m   1380\u001B[0m     \u001B[38;5;66;03m# GH#5567 this will fail if the label is not present in the axis.\u001B[39;00m\n\u001B[0;32m-> 1381\u001B[0m     \u001B[38;5;28;01mreturn\u001B[39;00m \u001B[38;5;28mself\u001B[39m\u001B[38;5;241m.\u001B[39mobj\u001B[38;5;241m.\u001B[39mxs(label, axis\u001B[38;5;241m=\u001B[39maxis)\n",
      "File \u001B[0;32m~/miniconda3/envs/monarch/lib/python3.12/site-packages/pandas/core/generic.py:4287\u001B[0m, in \u001B[0;36mNDFrame.xs\u001B[0;34m(self, key, axis, level, drop_level)\u001B[0m\n\u001B[1;32m   4285\u001B[0m \u001B[38;5;28;01mif\u001B[39;00m axis \u001B[38;5;241m==\u001B[39m \u001B[38;5;241m1\u001B[39m:\n\u001B[1;32m   4286\u001B[0m     \u001B[38;5;28;01mif\u001B[39;00m drop_level:\n\u001B[0;32m-> 4287\u001B[0m         \u001B[38;5;28;01mreturn\u001B[39;00m \u001B[38;5;28mself\u001B[39m[key]\n\u001B[1;32m   4288\u001B[0m     index \u001B[38;5;241m=\u001B[39m \u001B[38;5;28mself\u001B[39m\u001B[38;5;241m.\u001B[39mcolumns\n\u001B[1;32m   4289\u001B[0m \u001B[38;5;28;01melse\u001B[39;00m:\n",
      "File \u001B[0;32m~/miniconda3/envs/monarch/lib/python3.12/site-packages/pandas/core/frame.py:4102\u001B[0m, in \u001B[0;36mDataFrame.__getitem__\u001B[0;34m(self, key)\u001B[0m\n\u001B[1;32m   4100\u001B[0m \u001B[38;5;28;01mif\u001B[39;00m \u001B[38;5;28mself\u001B[39m\u001B[38;5;241m.\u001B[39mcolumns\u001B[38;5;241m.\u001B[39mnlevels \u001B[38;5;241m>\u001B[39m \u001B[38;5;241m1\u001B[39m:\n\u001B[1;32m   4101\u001B[0m     \u001B[38;5;28;01mreturn\u001B[39;00m \u001B[38;5;28mself\u001B[39m\u001B[38;5;241m.\u001B[39m_getitem_multilevel(key)\n\u001B[0;32m-> 4102\u001B[0m indexer \u001B[38;5;241m=\u001B[39m \u001B[38;5;28mself\u001B[39m\u001B[38;5;241m.\u001B[39mcolumns\u001B[38;5;241m.\u001B[39mget_loc(key)\n\u001B[1;32m   4103\u001B[0m \u001B[38;5;28;01mif\u001B[39;00m is_integer(indexer):\n\u001B[1;32m   4104\u001B[0m     indexer \u001B[38;5;241m=\u001B[39m [indexer]\n",
      "File \u001B[0;32m~/miniconda3/envs/monarch/lib/python3.12/site-packages/pandas/core/indexes/range.py:417\u001B[0m, in \u001B[0;36mRangeIndex.get_loc\u001B[0;34m(self, key)\u001B[0m\n\u001B[1;32m    415\u001B[0m         \u001B[38;5;28;01mraise\u001B[39;00m \u001B[38;5;167;01mKeyError\u001B[39;00m(key) \u001B[38;5;28;01mfrom\u001B[39;00m \u001B[38;5;21;01merr\u001B[39;00m\n\u001B[1;32m    416\u001B[0m \u001B[38;5;28;01mif\u001B[39;00m \u001B[38;5;28misinstance\u001B[39m(key, Hashable):\n\u001B[0;32m--> 417\u001B[0m     \u001B[38;5;28;01mraise\u001B[39;00m \u001B[38;5;167;01mKeyError\u001B[39;00m(key)\n\u001B[1;32m    418\u001B[0m \u001B[38;5;28mself\u001B[39m\u001B[38;5;241m.\u001B[39m_check_indexing_error(key)\n\u001B[1;32m    419\u001B[0m \u001B[38;5;28;01mraise\u001B[39;00m \u001B[38;5;167;01mKeyError\u001B[39;00m(key)\n",
      "\u001B[0;31mKeyError\u001B[0m: 'LVEDV'"
     ]
    },
    {
     "data": {
      "text/plain": "<Figure size 800x300 with 1 Axes>",
      "image/png": "[encoded data removed]"
     },
     "metadata": {},
     "output_type": "display_data"
    }
   ],
   "source": [
    "meta.plot_growth(beats, [\"LVEDV\", \"LVESV\"], units=[\"mL\", \"mL\"])\n",
    "meta.pv_loop_growth(beats)"
   ],
   "metadata": {
    "collapsed": false,
    "ExecuteTime": {
     "end_time": "2024-10-03T20:33:49.546169Z",
     "start_time": "2024-10-03T20:33:49.423862Z"
    }
   },
   "id": "22f162dc56daea31",
   "execution_count": 8
  },
  {
   "cell_type": "markdown",
   "source": [
    "This is due to the isotropic growth model not allowing for wall thinning:"
   ],
   "metadata": {
    "collapsed": false
   },
   "id": "a81f1935e9ad5893"
  },
  {
   "cell_type": "code",
   "outputs": [],
   "source": [
    "meta.plot_fg(beats)"
   ],
   "metadata": {
    "collapsed": false
   },
   "id": "f27495c6cd7c8728",
   "execution_count": null
  },
  {
   "cell_type": "markdown",
   "source": [
    "## References\n",
    "[1] Jones, C. E. & Oomen, P. J. A. Synergistic Biophysics and Machine Learning Modeling to Rapidly Predict Cardiac Growth Probability. bioRxiv 2024.07.17.603959 (2024) doi:10.1101/2024.07.17.603959.\n",
    "[2] Oomen, P. J. A., Phung, T.-K. N., Weinberg, S. H., Bilchick, K. C. & Holmes, J. W. A rapid electromechanical model to predict reverse remodeling following cardiac resynchronization therapy. Biomech Model Mechan 21, 231–247 (2022).\n",
    "[3] Witzenburg, C. M. & Holmes, J. W. Predicting the Time Course of Ventricular Dilation and Thickening Using a Rapid Compartmental Model. J Cardiovasc Transl 11, 109–122 (2018).\n",
    "[4] Göktepe, S., Abilez, O. J., Parker, K. K. & Kuhl, E. A multiscale model for eccentric and concentric cardiac growth through sarcomerogenesis. J Theor Biol 265, 433–442 (2010).\n",
    "[5] Rodriguez, E. K., Hoger, A. & McCulloch, A. D. Stress-dependent finite growth in soft elastic tissues. J Biomech 27, 455–467 (1994)."
   ],
   "metadata": {
    "collapsed": false
   },
   "id": "318821293709b65e"
  },
  {
   "cell_type": "code",
   "outputs": [],
   "source": [],
   "metadata": {
    "collapsed": false
   },
   "id": "78ac41afd0910418",
   "execution_count": null
  }
 ],
 "metadata": {
  "kernelspec": {
   "name": "monarch",
   "language": "python",
   "display_name": "monarch"
  },
  "language_info": {
   "codemirror_mode": {
    "name": "ipython",
    "version": 2
   },
   "file_extension": ".py",
   "mimetype": "text/x-python",
   "name": "python",
   "nbconvert_exporter": "python",
   "pygments_lexer": "ipython2",
   "version": "2.7.6"
  }
 },
 "nbformat": 4,
 "nbformat_minor": 5
}
